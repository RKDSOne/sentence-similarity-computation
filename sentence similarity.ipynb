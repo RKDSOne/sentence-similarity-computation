{
 "cells": [
  {
   "cell_type": "code",
   "execution_count": 74,
   "metadata": {
    "collapsed": false
   },
   "outputs": [],
   "source": [
    "# Display inline matplotlib plots with IPython\n",
    "from IPython import get_ipython\n",
    "get_ipython().run_line_magic('matplotlib', 'inline')\n",
    "from IPython.display import display, Image\n",
    "\n",
    "import os\n",
    "import pandas as pd\n",
    "import numpy as np\n",
    "from six.moves import cPickle as pickle\n",
    "from six.moves.urllib.request import urlretrieve\n",
    "from scipy import spatial\n",
    "import math\n",
    "from nltk.stem import WordNetLemmatizer\n",
    "wnl = WordNetLemmatizer()\n",
    "from semantic_similarity import similarity\n",
    "from textblob import TextBlob\n",
    "\n",
    "import matplotlib as mpl\n",
    "import matplotlib.pyplot as plt\n",
    "\n",
    "from sklearn.model_selection import train_test_split\n",
    "from sklearn.metrics import log_loss\n",
    "from sklearn.linear_model import SGDClassifier\n",
    "from sklearn.feature_extraction.text import TfidfVectorizer"
   ]
  },
  {
   "cell_type": "code",
   "execution_count": 137,
   "metadata": {
    "collapsed": false
   },
   "outputs": [
    {
     "name": "stdout",
     "output_type": "stream",
     "text": [
      "0.7.1\n"
     ]
    }
   ],
   "source": [
    "import seaborn \n",
    "print(seaborn.__version__)"
   ]
  },
  {
   "cell_type": "markdown",
   "metadata": {},
   "source": [
    "# The training data and models\n",
    "We will import the traning data, preprocess the data, extract features, and try different machine learnig method."
   ]
  },
  {
   "cell_type": "markdown",
   "metadata": {},
   "source": [
    "### Load training data\n",
    "The training and testing data are downloaded from 'https://www.kaggle.com/c/quora-question-pairs/data'"
   ]
  },
  {
   "cell_type": "code",
   "execution_count": 3,
   "metadata": {
    "collapsed": false
   },
   "outputs": [
    {
     "name": "stdout",
     "output_type": "stream",
     "text": [
      "404290\n"
     ]
    },
    {
     "data": {
      "text/html": [
       "<div>\n",
       "<table border=\"1\" class=\"dataframe\">\n",
       "  <thead>\n",
       "    <tr style=\"text-align: right;\">\n",
       "      <th></th>\n",
       "      <th>id</th>\n",
       "      <th>qid1</th>\n",
       "      <th>qid2</th>\n",
       "      <th>question1</th>\n",
       "      <th>question2</th>\n",
       "      <th>is_duplicate</th>\n",
       "    </tr>\n",
       "  </thead>\n",
       "  <tbody>\n",
       "    <tr>\n",
       "      <th>0</th>\n",
       "      <td>0</td>\n",
       "      <td>1</td>\n",
       "      <td>2</td>\n",
       "      <td>What is the step by step guide to invest in sh...</td>\n",
       "      <td>What is the step by step guide to invest in sh...</td>\n",
       "      <td>0</td>\n",
       "    </tr>\n",
       "    <tr>\n",
       "      <th>1</th>\n",
       "      <td>1</td>\n",
       "      <td>3</td>\n",
       "      <td>4</td>\n",
       "      <td>What is the story of Kohinoor (Koh-i-Noor) Dia...</td>\n",
       "      <td>What would happen if the Indian government sto...</td>\n",
       "      <td>0</td>\n",
       "    </tr>\n",
       "    <tr>\n",
       "      <th>2</th>\n",
       "      <td>2</td>\n",
       "      <td>5</td>\n",
       "      <td>6</td>\n",
       "      <td>How can I increase the speed of my internet co...</td>\n",
       "      <td>How can Internet speed be increased by hacking...</td>\n",
       "      <td>0</td>\n",
       "    </tr>\n",
       "    <tr>\n",
       "      <th>3</th>\n",
       "      <td>3</td>\n",
       "      <td>7</td>\n",
       "      <td>8</td>\n",
       "      <td>Why am I mentally very lonely? How can I solve...</td>\n",
       "      <td>Find the remainder when [math]23^{24}[/math] i...</td>\n",
       "      <td>0</td>\n",
       "    </tr>\n",
       "    <tr>\n",
       "      <th>4</th>\n",
       "      <td>4</td>\n",
       "      <td>9</td>\n",
       "      <td>10</td>\n",
       "      <td>Which one dissolve in water quikly sugar, salt...</td>\n",
       "      <td>Which fish would survive in salt water?</td>\n",
       "      <td>0</td>\n",
       "    </tr>\n",
       "    <tr>\n",
       "      <th>5</th>\n",
       "      <td>5</td>\n",
       "      <td>11</td>\n",
       "      <td>12</td>\n",
       "      <td>Astrology: I am a Capricorn Sun Cap moon and c...</td>\n",
       "      <td>I'm a triple Capricorn (Sun, Moon and ascendan...</td>\n",
       "      <td>1</td>\n",
       "    </tr>\n",
       "    <tr>\n",
       "      <th>6</th>\n",
       "      <td>6</td>\n",
       "      <td>13</td>\n",
       "      <td>14</td>\n",
       "      <td>Should I buy tiago?</td>\n",
       "      <td>What keeps childern active and far from phone ...</td>\n",
       "      <td>0</td>\n",
       "    </tr>\n",
       "    <tr>\n",
       "      <th>7</th>\n",
       "      <td>7</td>\n",
       "      <td>15</td>\n",
       "      <td>16</td>\n",
       "      <td>How can I be a good geologist?</td>\n",
       "      <td>What should I do to be a great geologist?</td>\n",
       "      <td>1</td>\n",
       "    </tr>\n",
       "    <tr>\n",
       "      <th>8</th>\n",
       "      <td>8</td>\n",
       "      <td>17</td>\n",
       "      <td>18</td>\n",
       "      <td>When do you use シ instead of し?</td>\n",
       "      <td>When do you use \"&amp;\" instead of \"and\"?</td>\n",
       "      <td>0</td>\n",
       "    </tr>\n",
       "    <tr>\n",
       "      <th>9</th>\n",
       "      <td>9</td>\n",
       "      <td>19</td>\n",
       "      <td>20</td>\n",
       "      <td>Motorola (company): Can I hack my Charter Moto...</td>\n",
       "      <td>How do I hack Motorola DCX3400 for free internet?</td>\n",
       "      <td>0</td>\n",
       "    </tr>\n",
       "  </tbody>\n",
       "</table>\n",
       "</div>"
      ],
      "text/plain": [
       "   id  qid1  qid2                                          question1  \\\n",
       "0   0     1     2  What is the step by step guide to invest in sh...   \n",
       "1   1     3     4  What is the story of Kohinoor (Koh-i-Noor) Dia...   \n",
       "2   2     5     6  How can I increase the speed of my internet co...   \n",
       "3   3     7     8  Why am I mentally very lonely? How can I solve...   \n",
       "4   4     9    10  Which one dissolve in water quikly sugar, salt...   \n",
       "5   5    11    12  Astrology: I am a Capricorn Sun Cap moon and c...   \n",
       "6   6    13    14                                Should I buy tiago?   \n",
       "7   7    15    16                     How can I be a good geologist?   \n",
       "8   8    17    18                    When do you use シ instead of し?   \n",
       "9   9    19    20  Motorola (company): Can I hack my Charter Moto...   \n",
       "\n",
       "                                           question2  is_duplicate  \n",
       "0  What is the step by step guide to invest in sh...             0  \n",
       "1  What would happen if the Indian government sto...             0  \n",
       "2  How can Internet speed be increased by hacking...             0  \n",
       "3  Find the remainder when [math]23^{24}[/math] i...             0  \n",
       "4            Which fish would survive in salt water?             0  \n",
       "5  I'm a triple Capricorn (Sun, Moon and ascendan...             1  \n",
       "6  What keeps childern active and far from phone ...             0  \n",
       "7          What should I do to be a great geologist?             1  \n",
       "8              When do you use \"&\" instead of \"and\"?             0  \n",
       "9  How do I hack Motorola DCX3400 for free internet?             0  "
      ]
     },
     "execution_count": 3,
     "metadata": {},
     "output_type": "execute_result"
    }
   ],
   "source": [
    "#import the trainnig data\n",
    "text_data = pd.read_csv('train.csv')\n",
    "print(len(text_data))\n",
    "text_data.head(10)"
   ]
  },
  {
   "cell_type": "code",
   "execution_count": 4,
   "metadata": {
    "collapsed": false
   },
   "outputs": [
    {
     "data": {
      "text/plain": [
       "0    0\n",
       "1    0\n",
       "2    0\n",
       "3    0\n",
       "4    0\n",
       "5    1\n",
       "6    0\n",
       "7    1\n",
       "8    0\n",
       "9    0\n",
       "Name: is_duplicate, dtype: int64"
      ]
     },
     "execution_count": 4,
     "metadata": {},
     "output_type": "execute_result"
    }
   ],
   "source": [
    "# get the train lable\n",
    "label = text_data['is_duplicate']\n",
    "label.head(10)"
   ]
  },
  {
   "cell_type": "code",
   "execution_count": 5,
   "metadata": {
    "collapsed": true
   },
   "outputs": [],
   "source": [
    "text_data100 = text_data[:100]"
   ]
  },
  {
   "cell_type": "code",
   "execution_count": 48,
   "metadata": {
    "collapsed": false
   },
   "outputs": [
    {
     "name": "stdout",
     "output_type": "stream",
     "text": [
      "What is the step by step guide to invest in share market in india?\n"
     ]
    }
   ],
   "source": [
    "print(text_data.loc[0,'question1'])"
   ]
  },
  {
   "cell_type": "code",
   "execution_count": 51,
   "metadata": {
    "collapsed": false
   },
   "outputs": [
    {
     "data": {
      "text/plain": [
       "'What is the step by step guide to invest in share market in india?'"
      ]
     },
     "execution_count": 51,
     "metadata": {},
     "output_type": "execute_result"
    }
   ],
   "source": [
    "str1 = str(text_data.loc[0, 'question1'])\n",
    "str1"
   ]
  },
  {
   "cell_type": "code",
   "execution_count": 55,
   "metadata": {
    "collapsed": true
   },
   "outputs": [],
   "source": [
    "str1 = 'hi, this is micheal. hello ?'"
   ]
  },
  {
   "cell_type": "code",
   "execution_count": 56,
   "metadata": {
    "collapsed": false
   },
   "outputs": [
    {
     "data": {
      "text/plain": [
       "6"
      ]
     },
     "execution_count": 56,
     "metadata": {},
     "output_type": "execute_result"
    }
   ],
   "source": [
    "len(str1.split())"
   ]
  },
  {
   "cell_type": "markdown",
   "metadata": {},
   "source": [
    "### Text analysis"
   ]
  },
  {
   "cell_type": "code",
   "execution_count": 15,
   "metadata": {
    "collapsed": false
   },
   "outputs": [
    {
     "data": {
      "text/plain": [
       "'What is the step by step guide to invest in share market in india?'"
      ]
     },
     "execution_count": 15,
     "metadata": {},
     "output_type": "execute_result"
    }
   ],
   "source": [
    "train_qs = pd.Series([x for x in text_data100['question1']] + text_data100['question2'].tolist()).astype(str)\n",
    "train_qs[0]"
   ]
  },
  {
   "cell_type": "code",
   "execution_count": 24,
   "metadata": {
    "collapsed": false
   },
   "outputs": [
    {
     "data": {
      "text/plain": [
       "66"
      ]
     },
     "execution_count": 24,
     "metadata": {},
     "output_type": "execute_result"
    }
   ],
   "source": [
    "len(train_qs[0])"
   ]
  },
  {
   "cell_type": "code",
   "execution_count": 14,
   "metadata": {
    "collapsed": false
   },
   "outputs": [
    {
     "data": {
      "text/plain": [
       "'What is the step by step guide to invest in share market in india?'"
      ]
     },
     "execution_count": 14,
     "metadata": {},
     "output_type": "execute_result"
    }
   ],
   "source": [
    "text_data100.loc[0,'question1']"
   ]
  },
  {
   "cell_type": "code",
   "execution_count": 103,
   "metadata": {
    "collapsed": true
   },
   "outputs": [],
   "source": [
    "# generate a dataframe for text length analysis\n",
    "def text_analysis(df):\n",
    "    length1 = []\n",
    "    length2 = []\n",
    "    for i in range(len(df)):\n",
    "        list_tmp = []\n",
    "        str1 = str(df.loc[i, 'question1'])\n",
    "        str2 = str(df.loc[i, 'question2'])\n",
    "        length1.append(len(str1.split()))\n",
    "        length2.append(len(str2.split()))\n",
    "        \n",
    "    dic = {'length1': length1, 'length2':length2, 'label':label}\n",
    "    return pd.DataFrame(dic)\n"
   ]
  },
  {
   "cell_type": "code",
   "execution_count": 43,
   "metadata": {
    "collapsed": false
   },
   "outputs": [
    {
     "data": {
      "text/html": [
       "<div>\n",
       "<table border=\"1\" class=\"dataframe\">\n",
       "  <thead>\n",
       "    <tr style=\"text-align: right;\">\n",
       "      <th></th>\n",
       "      <th>label</th>\n",
       "      <th>length1</th>\n",
       "      <th>length2</th>\n",
       "    </tr>\n",
       "  </thead>\n",
       "  <tbody>\n",
       "    <tr>\n",
       "      <th>0</th>\n",
       "      <td>0</td>\n",
       "      <td>14</td>\n",
       "      <td>12</td>\n",
       "    </tr>\n",
       "    <tr>\n",
       "      <th>1</th>\n",
       "      <td>0</td>\n",
       "      <td>8</td>\n",
       "      <td>13</td>\n",
       "    </tr>\n",
       "    <tr>\n",
       "      <th>2</th>\n",
       "      <td>0</td>\n",
       "      <td>14</td>\n",
       "      <td>10</td>\n",
       "    </tr>\n",
       "    <tr>\n",
       "      <th>3</th>\n",
       "      <td>0</td>\n",
       "      <td>11</td>\n",
       "      <td>9</td>\n",
       "    </tr>\n",
       "    <tr>\n",
       "      <th>4</th>\n",
       "      <td>0</td>\n",
       "      <td>13</td>\n",
       "      <td>7</td>\n",
       "    </tr>\n",
       "  </tbody>\n",
       "</table>\n",
       "</div>"
      ],
      "text/plain": [
       "   label  length1  length2\n",
       "0      0       14       12\n",
       "1      0        8       13\n",
       "2      0       14       10\n",
       "3      0       11        9\n",
       "4      0       13        7"
      ]
     },
     "execution_count": 43,
     "metadata": {},
     "output_type": "execute_result"
    }
   ],
   "source": [
    "train_analysis.head()"
   ]
  },
  {
   "cell_type": "code",
   "execution_count": 104,
   "metadata": {
    "collapsed": false
   },
   "outputs": [],
   "source": [
    "train_analysis = text_analysis(text_data)\n",
    "# get the word length of all question lengths\n",
    "qs_total = train_analysis['length1'].append(train_analysis['length2'])\n",
    "\n",
    "# word length of all dupliate questions \n",
    "qs_dup = train_analysis[train_analysis.label == 1]['length1'].append(\n",
    "    train_analysis[train_analysis.label == 1]['length2'])\n",
    "\n",
    "#word length of all non dupliate questions \n",
    "qs_NONdup = train_analysis[train_analysis.label == 0]['length1'].append(\n",
    "    train_analysis[train_analysis.label == 0]['length2'])\n",
    "\n",
    "# word length difference of all dupliate questions \n",
    "len_diff_dup = [abs(train_analysis.loc[i,'length1'] - train_analysis.loc[i, 'length2']) \n",
    "                for i in range(len(train_analysis)) \n",
    "                if train_analysis.loc[i, 'label'] == 1]  \n",
    "len_diff_dup = pd.Series(len_diff_dup)\n",
    "\n",
    "#word length difference of all non dupliate questions \n",
    "len_diff_NONdup = [abs(train_analysis.loc[i,'length1'] - train_analysis.loc[i, 'length2']) \n",
    "                for i in range(len(train_analysis)) \n",
    "                   if train_analysis.loc[i, 'label'] == 0]\n",
    "len_diff_NONdup = pd.Series(len_diff_NONdup)"
   ]
  },
  {
   "cell_type": "code",
   "execution_count": 105,
   "metadata": {
    "collapsed": false
   },
   "outputs": [
    {
     "name": "stderr",
     "output_type": "stream",
     "text": [
      "C:\\Users\\Xu Wen Tao\\Anaconda3\\lib\\site-packages\\matplotlib\\axes\\_axes.py:531: UserWarning: No labelled objects found. Use label='...' kwarg on individual plots.\n",
      "  warnings.warn(\"No labelled objects found. \"\n"
     ]
    },
    {
     "name": "stdout",
     "output_type": "stream",
     "text": [
      "mean-total 11.06 std-total 5.88 max-total 237.00 \n",
      "mean-duplicate 9.85 std-duplicate 4.16 max-duplicate 80.00 \n",
      "mean-non duplicate 11.77 std-non duplicate 6.59 max-non duplicate 237.00 \n"
     ]
    },
    {
     "data": {
      "image/png": "[encoded data removed]",
      "text/plain": [
       "<matplotlib.figure.Figure at 0x2410148ac50>"
      ]
     },
     "metadata": {},
     "output_type": "display_data"
    }
   ],
   "source": [
    "import seaborn as sns\n",
    "pal = sns.color_palette()\n",
    "\n",
    "#plot the word count distributions\n",
    "plt.figure(figsize=(15, 10))\n",
    "plt.hist(qs_total, bins=40, range=[0, 40], color=pal[2],normed=True)\n",
    "plt.title('Normalised histogram of word count in questions of train data set', fontsize=20)\n",
    "plt.legend()\n",
    "plt.xlabel('Number of words', fontsize=20)\n",
    "plt.ylabel('Probability', fontsize=20)\n",
    "mpl.rcParams['xtick.labelsize'] = 18\n",
    "mpl.rcParams['ytick.labelsize'] = 18\n",
    "\n",
    "# the statistics of word count \n",
    "print('mean-total {:.2f} std-total {:.2f} max-total {:.2f} '.format(qs_total.mean(), \n",
    "                          qs_total.std(), qs_total.max()))\n",
    "print('mean-duplicate {:.2f} std-duplicate {:.2f} max-duplicate {:.2f} '.format(qs_dup.mean(), \n",
    "                          qs_dup.std(), qs_dup.max()))\n",
    "print('mean-non duplicate {:.2f} std-non duplicate {:.2f} max-non duplicate {:.2f} '.format(\n",
    "        qs_NONdup.mean(), qs_NONdup.std(), qs_NONdup.max()))"
   ]
  },
  {
   "cell_type": "code",
   "execution_count": 107,
   "metadata": {
    "collapsed": false
   },
   "outputs": [
    {
     "name": "stdout",
     "output_type": "stream",
     "text": [
      "mean-duplicate 2.42 std-duplicate 2.69 max-duplicate 39.00 \n",
      "mean-non duplicate 4.44 std-non duplicate 5.60 max-non duplicate 223.00 \n"
     ]
    },
    {
     "data": {
      "image/png": "[encoded data removed]",
      "text/plain": [
       "<matplotlib.figure.Figure at 0x24101a69048>"
      ]
     },
     "metadata": {},
     "output_type": "display_data"
    }
   ],
   "source": [
    "\n",
    "# plot the word count differnece for duplicate and non duplicate question pairs\n",
    "plt.figure(figsize=(10, 7))\n",
    "plt.hist(len_diff_dup, bins=20, range=[0, 20], color=pal[2],normed=True, label='duplicate')\n",
    "plt.hist(len_diff_NONdup, bins=20, range=[0, 20], color=pal[5],normed=True,alpha=0.7,\n",
    "         label='non duplicate')\n",
    "plt.title('Normalised histogram of word count difference', fontsize=20)\n",
    "plt.legend()\n",
    "plt.xlabel('Number of words difference', fontsize=20)\n",
    "plt.ylabel('Probability', fontsize=20)\n",
    "\n",
    "\n",
    "mpl.rcParams.update({'font.size': 20})\n",
    "\n",
    "\n",
    "# print word count difference statistics\n",
    "print('mean-duplicate {:.2f} std-duplicate {:.2f} max-duplicate {:.2f} '.format(\n",
    "        len_diff_dup.mean(), len_diff_dup.std(), len_diff_dup.max()))\n",
    "print('mean-non duplicate {:.2f} std-non duplicate {:.2f} max-non duplicate {:.2f} '.format(\n",
    "        len_diff_NONdup.mean(), len_diff_NONdup.std(), len_diff_NONdup.max()))"
   ]
  },
  {
   "cell_type": "code",
   "execution_count": null,
   "metadata": {
    "collapsed": true
   },
   "outputs": [],
   "source": [
    "pal = sns.color_palette()"
   ]
  },
  {
   "cell_type": "markdown",
   "metadata": {},
   "source": [
    "## Preprocess the data.\n",
    "In this part, we will preprocess the train data. Also we will generate a word vector dictionary and word probability dictionary for feature enginnering use. "
   ]
  },
  {
   "cell_type": "code",
   "execution_count": 1,
   "metadata": {
    "collapsed": false
   },
   "outputs": [
    {
     "name": "stdout",
     "output_type": "stream",
     "text": [
      "['i', 'me', 'my', 'myself', 'we', 'our', 'ours', 'ourselves', 'you', 'your', 'yours', 'yourself', 'yourselves', 'he', 'him', 'his', 'himself', 'she', 'her', 'hers', 'herself', 'it', 'its', 'itself', 'they', 'them', 'their', 'theirs', 'themselves', 'what', 'which', 'who', 'whom', 'this', 'that', 'these', 'those', 'am', 'is', 'are', 'was', 'were', 'be', 'been', 'being', 'have', 'has', 'had', 'having', 'do', 'does', 'did', 'doing', 'a', 'an', 'the', 'and', 'but', 'if', 'or', 'because', 'as', 'until', 'while', 'of', 'at', 'by', 'for', 'with', 'about', 'against', 'between', 'into', 'through', 'during', 'before', 'after', 'above', 'below', 'to', 'from', 'up', 'down', 'in', 'out', 'on', 'off', 'over', 'under', 'again', 'further', 'then', 'once', 'here', 'there', 'when', 'where', 'why', 'how', 'all', 'any', 'both', 'each', 'few', 'more', 'most', 'other', 'some', 'such', 'no', 'nor', 'not', 'only', 'own', 'same', 'so', 'than', 'too', 'very', 's', 't', 'can', 'will', 'just', 'don', 'should', 'now', 'd', 'll', 'm', 'o', 're', 've', 'y', 'ain', 'aren', 'couldn', 'didn', 'doesn', 'hadn', 'hasn', 'haven', 'isn', 'ma', 'mightn', 'mustn', 'needn', 'shan', 'shouldn', 'wasn', 'weren', 'won', 'wouldn']\n"
     ]
    }
   ],
   "source": [
    "from nltk.corpus import stopwords\n",
    "print(stopwords.words('english'))"
   ]
  },
  {
   "cell_type": "markdown",
   "metadata": {},
   "source": [
    "These stop words from nltk packages are too much, for example, 'not' should be kept for calculating polarity difference.  so we use our own stop words list.  \n",
    "We now preprocess our data, including removing punctuations, numbers, stop words, and lowercase all words. Store the questions in a list of a list. \n"
   ]
  },
  {
   "cell_type": "code",
   "execution_count": 27,
   "metadata": {
    "collapsed": false
   },
   "outputs": [],
   "source": [
    "# remove stop words and punctuation and store 'questoin1' and 'question2' in a 2D list\n",
    "#this stopwords list is used in solution of version 1\n",
    "stopwords = ['the', 'a', 'an', 'is', 'are', 'was', 'were', 'am', 'which','what','how']\n",
    "import string\n",
    "def remove_stopwords(df):\n",
    "    \n",
    "    list12 = []\n",
    "    for i in range(len(df)):\n",
    "        list_tmp = []\n",
    "        str1 = str(df.loc[i, 'question1'])\n",
    "        str2 = str(df.loc[i, 'question2'])\n",
    "        \n",
    "        translator = str.maketrans('', '', string.punctuation)\n",
    "        #remove punctuation\n",
    "        str1 = str1.translate(translator)\n",
    "        str2 = str2.translate(translator)\n",
    "\n",
    "        #remove stop words\n",
    "        words1 = [x for x in str1.split() if x not in stopwords]\n",
    "        words2 = [x for x in str2.split() if x not in stopwords]\n",
    "                        \n",
    "        # Remove single-character word (mostly punctuation)\n",
    "        #words1 = [word for word in words1 if len(word) > 1]\n",
    "        #words2 = [word for word in words2 if len(word) > 1]\n",
    "        \n",
    "        # Remove numbers\n",
    "        words1 = [word for word in words1 if not word.isnumeric()]\n",
    "        words2 = [word for word in words2 if not word.isnumeric()]\n",
    "        \n",
    "        # Lowercase all words (default_stopwords are lowercase too)\n",
    "        words1 = [word.lower() for word in words1]\n",
    "        words2 = [word.lower() for word in words2]\n",
    "        \n",
    "        list_tmp.append(words1)\n",
    "        list_tmp.append(words2)\n",
    "        #create a 2 dimensional list\n",
    "        list12.append(list_tmp)\n",
    "    return list12\n"
   ]
  },
  {
   "cell_type": "code",
   "execution_count": 8,
   "metadata": {
    "collapsed": false
   },
   "outputs": [
    {
     "name": "stdout",
     "output_type": "stream",
     "text": [
      "[[['what', 'step', 'by', 'step', 'guide', 'to', 'invest', 'in', 'share', 'market', 'in', 'india'], ['what', 'step', 'by', 'step', 'guide', 'to', 'invest', 'in', 'share', 'market']], [['what', 'story', 'of', 'kohinoor', 'kohinoor', 'diamond'], ['what', 'would', 'happen', 'if', 'indian', 'government', 'stole', 'kohinoor', 'kohinoor', 'diamond', 'back']], [['how', 'can', 'i', 'increase', 'speed', 'of', 'my', 'internet', 'connection', 'while', 'using', 'vpn'], ['how', 'can', 'internet', 'speed', 'be', 'increased', 'by', 'hacking', 'through', 'dns']], [['why', 'i', 'mentally', 'very', 'lonely', 'how', 'can', 'i', 'solve', 'it'], ['find', 'remainder', 'when', 'math2324math', 'divided', 'by']], [['which', 'one', 'dissolve', 'in', 'water', 'quikly', 'sugar', 'salt', 'methane', 'and', 'carbon', 'di', 'oxide'], ['which', 'fish', 'would', 'survive', 'in', 'salt', 'water']], [['astrology', 'i', 'capricorn', 'sun', 'cap', 'moon', 'and', 'cap', 'risingwhat', 'does', 'that', 'say', 'about', 'me'], ['im', 'triple', 'capricorn', 'sun', 'moon', 'and', 'ascendant', 'in', 'capricorn', 'what', 'does', 'this', 'say', 'about', 'me']], [['should', 'i', 'buy', 'tiago'], ['what', 'keeps', 'childern', 'active', 'and', 'far', 'from', 'phone', 'and', 'video', 'games']], [['how', 'can', 'i', 'be', 'good', 'geologist'], ['what', 'should', 'i', 'do', 'to', 'be', 'great', 'geologist']], [['when', 'do', 'you', 'use', 'シ', 'instead', 'of', 'し'], ['when', 'do', 'you', 'use', 'instead', 'of', 'and']], [['motorola', 'company', 'can', 'i', 'hack', 'my', 'charter', 'motorolla', 'dcx3400'], ['how', 'do', 'i', 'hack', 'motorola', 'dcx3400', 'for', 'free', 'internet']]]\n"
     ]
    }
   ],
   "source": [
    "# get the preprocessed data stored in a list.\n",
    "list12 = remove_stopwords(text_data)\n",
    "print(list12[0:10])"
   ]
  },
  {
   "cell_type": "markdown",
   "metadata": {},
   "source": [
    "### Word vector dictionary\n",
    "We will use the pretrained word vector for converting each sentence into vector space. The word vector file **paragram-phrase-XXL.txt** is downloaded from http://ttic.uchicago.edu/~wieting/"
   ]
  },
  {
   "cell_type": "code",
   "execution_count": 150,
   "metadata": {
    "collapsed": true
   },
   "outputs": [],
   "source": [
    "import sys\n",
    "def download_progress_hook(count, blockSize, totalSize):\n",
    "  \"\"\"A hook to report the progress of a download. This is mostly intended for users with\n",
    "  slow internet connections. Reports every 5% change in download progress.\n",
    "  \"\"\"\n",
    "  global last_percent_reported\n",
    "  percent = int(count * blockSize * 100 / totalSize)\n",
    "\n",
    "  if last_percent_reported != percent:\n",
    "    if percent % 5 == 0:\n",
    "      sys.stdout.write(\"%s%%\" % percent)\n",
    "      sys.stdout.flush()\n",
    "    else:\n",
    "      sys.stdout.write(\".\")\n",
    "      sys.stdout.flush()\n",
    "      \n",
    "    last_percent_reported = percent\n",
    "\n",
    "def maybe_download(filename, expected_bytes, url, force=False):\n",
    "  \"\"\"Download a file if not present, and make sure it's the right size.\"\"\"\n",
    "  dest_filename = os.path.join('.', filename)\n",
    "  if force or not os.path.exists(dest_filename):\n",
    "    print('Attempting to download:', filename) \n",
    "    filename, _ = urlretrieve(url + filename, dest_filename, reporthook=download_progress_hook)\n",
    "    print('\\nDownload Complete!')\n",
    "  statinfo = os.stat(dest_filename)\n",
    "  if statinfo.st_size == expected_bytes:\n",
    "    print('Found and verified', dest_filename)\n",
    "  else:\n",
    "    raise Exception(\n",
    "      'Failed to verify ' + dest_filename + '. Can you get to it with a browser?')\n",
    "  return dest_filename"
   ]
  },
  {
   "cell_type": "code",
   "execution_count": 151,
   "metadata": {
    "collapsed": false
   },
   "outputs": [
    {
     "name": "stdout",
     "output_type": "stream",
     "text": [
      "Attempting to download: paragram-phrase-XXL.txt\n",
      "0%....5%....10%....15%....20%....25%....30%....35%....40%....45%....50%....55%....60%....65%....70%....75%....80%....85%....90%....95%....100%\n",
      "Download Complete!\n",
      "Found and verified .\\paragram-phrase-XXL.txt\n"
     ]
    }
   ],
   "source": [
    "last_percent_reported = None\n",
    "url = 'http://ttic.uchicago.edu/~wieting/'\n",
    "_ = maybe_download('paragram-phrase-XXL.txt', 161847918, url)"
   ]
  },
  {
   "cell_type": "code",
   "execution_count": 9,
   "metadata": {
    "collapsed": true
   },
   "outputs": [],
   "source": [
    "# each line conains a word and 1x300 vector\n",
    "vector_table = pd.read_table('paragram-phrase-XXL.txt', header = None)\n",
    "\n",
    "#store the vector in a dictionary, key is the word, value is the vector\n",
    "wordvector = {}\n",
    "for i in range(len(vector_table)):\n",
    "    line = vector_table[0][i].split()\n",
    "    wordvector[line[0]] = [float(x) for x in line[1:]]"
   ]
  },
  {
   "cell_type": "code",
   "execution_count": 10,
   "metadata": {
    "collapsed": false
   },
   "outputs": [],
   "source": [
    "#save the wordvector, to reload the saved wordvector, then use:\n",
    "# with open('wordvecotr.pickle', 'rb') as f:\n",
    "#        wordvector = pickle.load(f)\n",
    "with open('wordvector.pickle','wb') as f:\n",
    "    pickle.dump(wordvector, f, pickle.HIGHEST_PROTOCOL)\n"
   ]
  },
  {
   "cell_type": "code",
   "execution_count": 92,
   "metadata": {
    "collapsed": false
   },
   "outputs": [],
   "source": [
    "with open('wordvector.pickle', 'rb') as f:\n",
    "        wordvector = pickle.load(f)"
   ]
  },
  {
   "cell_type": "markdown",
   "metadata": {},
   "source": [
    "### Word probability dictionary \n",
    "Different word have different weighting in a sentence. Usually the more frequent of a word, the less import of the word in a sentence. The word probability is calculated based on word frequency file **count_1w.txt**, which get the frequency based on text corpus of 1,024,908,267,229 words. This file is downloaded from http://norvig.com/ngrams/  "
   ]
  },
  {
   "cell_type": "code",
   "execution_count": 152,
   "metadata": {
    "collapsed": false
   },
   "outputs": [
    {
     "name": "stdout",
     "output_type": "stream",
     "text": [
      "Attempting to download: count_1w.txt\n",
      "0%....5%....10%....15%....20%....25%....30%....35%....40%....45%....50%....55%....60%....65%....70%....75%....80%....85%....90%....95%....100%\n",
      "Download Complete!\n",
      "Found and verified .\\count_1w.txt\n"
     ]
    }
   ],
   "source": [
    "last_percent_reported = None\n",
    "url = 'http://norvig.com/ngrams/'\n",
    "_ = maybe_download('count_1w.txt', 4956241, url)"
   ]
  },
  {
   "cell_type": "code",
   "execution_count": 9,
   "metadata": {
    "collapsed": false
   },
   "outputs": [],
   "source": [
    "word_frenq = pd.read_table('count_1w.txt', header = None)\n",
    "\n",
    "#word probability dictionary\n",
    "word_prob = {}\n",
    "for i in range(len(word_frenq)):\n",
    "    word_prob[word_frenq[0][i]] = float(word_frenq[1][i])/1024908267229.0\n"
   ]
  },
  {
   "cell_type": "code",
   "execution_count": 93,
   "metadata": {
    "collapsed": false
   },
   "outputs": [
    {
     "name": "stdout",
     "output_type": "stream",
     "text": [
      "0.0002081930781736233\n",
      "0.02257358234074099\n"
     ]
    }
   ],
   "source": [
    "# let us see 2 exmaples of word probability\n",
    "print(word_prob['guide'])\n",
    "print(word_prob['the'])"
   ]
  },
  {
   "cell_type": "markdown",
   "metadata": {},
   "source": [
    "It can be seen that 'the' has much a higher probability than 'guide', whihc meets our expectations according to our common knowleadge."
   ]
  },
  {
   "cell_type": "markdown",
   "metadata": {},
   "source": [
    "## Feature engineering\n",
    "Next we will calculate features of each pair questions. "
   ]
  },
  {
   "cell_type": "code",
   "execution_count": 94,
   "metadata": {
    "collapsed": false
   },
   "outputs": [],
   "source": [
    "#**************************cosin similarity*************************************************************#\n",
    "# calculate cosin similarity\n",
    "\n",
    "#calculate the sentence vector by adding weighted word vector \n",
    "# weight a= a/(a+p(w)) with a a parameter(default 10-4) and p(w) the (estimated) word probability\n",
    "#weight is selected according to the paper: 'A Simple but tough-to-beat baseline for sentence embeddings'\n",
    "\n",
    "\n",
    "def feature_vector(words, wordvector = wordvector, word_prob = word_prob, a = 0.001, num_features = 300):\n",
    "        '''\n",
    "        word is the list for sentence\n",
    "        calculate average of all words vectors \n",
    "        and the weighted words vectors in a given sentence\n",
    "        '''\n",
    "        \n",
    "        #weighted sentence vector\n",
    "        wtd_featureVec = np.zeros((num_features,), dtype=\"float32\")\n",
    "        #average sentence vector\n",
    "        avg_featureVec = np.zeros((num_features,), dtype=\"float32\")\n",
    "        nwords = 0\n",
    "\n",
    "        #list containing names of words in the vocabulary\n",
    "        \n",
    "        for word in words:\n",
    "            if word in wordvector.keys() and word in word_prob.keys():\n",
    "                nwords = nwords+1\n",
    "                avg_featureVec = np.add(avg_featureVec, wordvector[word])\n",
    "                wt = np.divide(a,np.add(a,word_prob[word]))\n",
    "                wtd_featureVec = np.add(wtd_featureVec, np.multiply(wordvector[word],wt))\n",
    "\n",
    "        if(nwords>0):\n",
    "            avg_featureVec = np.divide(avg_featureVec, nwords)\n",
    "        return avg_featureVec, wtd_featureVec\n",
    "    \n",
    "def get_cosin_simularity(sent1, sent2):\n",
    "    '''\n",
    "    input two sentences in the form of list,\n",
    "    output similirity according to weighted word vector and average word vector\n",
    "    '''\n",
    "    if len(sent1) == 0 or len(sent2) == 0:\n",
    "        return 0,0\n",
    "    #get vector for two sentences \n",
    "    sent1_avg_vector, sent1_wtg_vector = feature_vector(sent1)\n",
    "    sent2_avg_vector, sent2_wtg_vector = feature_vector(sent2)\n",
    "    \n",
    "    avg_similarity = 1 - spatial.distance.cosine(sent1_avg_vector,sent2_avg_vector)\n",
    "    wtg_similarity = 1 - spatial.distance.cosine(sent1_wtg_vector,sent2_wtg_vector)\n",
    "    \n",
    "    # A few similarity returns NaN (65 of 404290), possibly becuase the some word vector \n",
    "    # are not in the dictionary or becuase some computer genreted question pairs have only \n",
    "    # stop words. we just assign them as 0.5.  \n",
    "    if math.isnan(avg_similarity):\n",
    "        avg_similarity = 0.5\n",
    "    if math.isnan(wtg_similarity):\n",
    "        wtg_similarity = 0.5\n",
    "    \n",
    "    return avg_similarity, wtg_similarity\n",
    "\n",
    "\n",
    "#**************************Length of longest common words*************************************************#\n",
    "def f_lcword_length(a, b):\n",
    "    '''\n",
    "    return the lenght of the longest common words of list a and list b\n",
    "    '''\n",
    "    table = [[0] * (len(b) + 1) for _ in range(len(a) + 1)]\n",
    "    l = 0\n",
    "    for i, ca in enumerate(a, 1):\n",
    "        for j, cb in enumerate(b, 1):\n",
    "            if ca == cb:\n",
    "                table[i][j] = table[i - 1][j - 1] + 1\n",
    "                if table[i][j] > l:\n",
    "                    l = table[i][j]\n",
    "    return l\n",
    "\n",
    "#**************************Polarity difference**********************************************************#\n",
    "def f_polarity_diff(a,b):\n",
    "    '''\n",
    "    given two stirngs, return the polarity difference\n",
    "    '''\n",
    "    blob1 = TextBlob(a)\n",
    "    blob2 = TextBlob(b)\n",
    "    return abs((blob1.sentiment.polarity - blob2.sentiment.polarity)/2.0)\n",
    "\n",
    "#**************************Ration of length**********************************************************#\n",
    "def f_ratio_length(a,b):\n",
    "    '''\n",
    "    return the ratio of the length of the short sentence to the long sentence \n",
    "    '''\n",
    "    if len(a) < len(b):\n",
    "        return float(len(a)/len(b))\n",
    "    else:\n",
    "        return float(len(b)/len(a))\n",
    "\n",
    "    \n",
    "#**************************word match share**********************************************************#\n",
    "def word_match_share(a, b):\n",
    "    \n",
    "    # return the word match share\n",
    "    if len(a) == 0 or len(b) == 0:\n",
    "        # The computer-generated chaff includes a few questions that are nothing but stopwords\n",
    "        return 0\n",
    "    la = 0\n",
    "    lb = 0\n",
    "    for word in a:\n",
    "        if word in b:\n",
    "            la += 1\n",
    "    for word in b:\n",
    "        if word in a:\n",
    "            lb += 1\n",
    "    return float((la + lb))/(len(a) + len(b))\n",
    "\n",
    "\n",
    "#**************************tfidf word match share*****************************************************#\n",
    "def tfidf_word_match_share(a,b):\n",
    "    # return weighted word match share\n",
    "    if len(a) == 0 or len(b) == 0:\n",
    "        # The computer-generated chaff includes a few questions that are nothing but stopwords\n",
    "        return 0\n",
    "    la = 0\n",
    "    lb = 0\n",
    "    la_tot = 0\n",
    "    lb_tot = 0\n",
    "    for word in a:\n",
    "        if word in word_prob.keys():\n",
    "            la_tot += 1.0/word_prob[word]\n",
    "            if word in b:\n",
    "                la += 1.0/word_prob[word]\n",
    "        #if word not in word_prob keys, meaning the word is rare, should have a large weight\n",
    "        else:\n",
    "            la_tot += 500000.0\n",
    "            if word in b:\n",
    "                la += 500000.0\n",
    "    for word in b:\n",
    "        if word in word_prob.keys():\n",
    "            lb_tot += 1.0/word_prob[word]\n",
    "            if word in a:\n",
    "                lb += 1.0/word_prob[word]\n",
    "        #if word not in word_prob keys, meaning the word is rare, should have a large weight\n",
    "        else:\n",
    "            lb_tot += 500000.0\n",
    "            if word in a: \n",
    "                lb += 500000.0\n",
    "    return (la + lb)/(la_tot + lb_tot)\n",
    "#************************************************************************************************#"
   ]
  },
  {
   "cell_type": "code",
   "execution_count": 340,
   "metadata": {
    "collapsed": false
   },
   "outputs": [],
   "source": [
    "# generate features\n",
    "\n",
    "def generate_feature(l = list12):\n",
    "    list_total = [[]]\n",
    "    bwo = []\n",
    "    blo = []\n",
    "    jaccard_sim = []\n",
    "    cosine_sim = []\n",
    "    lcw_length = []\n",
    "    semantic_sim = []\n",
    "    polarity_diff = []\n",
    "    ratio_of_length = []\n",
    "    avg_sim = []\n",
    "    wtg_sim = []\n",
    "    word_share = []\n",
    "    tfidf_word_share = []\n",
    "    for i in range(len(list12)):\n",
    "        #Bags of words overlap\n",
    "        l_mut = [x for x in list12[i][0] if x in list12[i][1]]\n",
    "        l_max_length = np.max([len(list12[i][0]),len(list12[i][1])])\n",
    "        bwo.append(len(l_mut)/float(l_max_length))\n",
    "                              \n",
    "        #Bags of lemmatised words overlap\n",
    "        x1_lemmas = [wnl.lemmatize(x) for x in list12[i][0]]\n",
    "        x2_lemmas = [wnl.lemmatize(x) for x in list12[i][1]]\n",
    "        l_mut_lemmas = [x for x in x1_lemmas if x in x2_lemmas]\n",
    "        blo.append(len(l_mut_lemmas)/float(l_max_length))\n",
    "        \n",
    "        #Jaccard similarity of sets of lemmas\n",
    "        s_mut_lemmas = set(l_mut_lemmas)\n",
    "        s_add = set(x1_lemmas + x2_lemmas)\n",
    "        jaccard_sim.append(len(s_mut_lemmas)/float(len(s_add)))\n",
    "                              \n",
    "        #Cosine similarity of vectors of lemmatised effective words\n",
    "         #first convert the list to 2 strings                     \n",
    "        str1 = ' '.join(x1_lemmas)\n",
    "        str2 = ' '.join(x2_lemmas)\n",
    "        vect = TfidfVectorizer(min_df=1)\n",
    "        tfidf = vect.fit_transform([str1,str2])\n",
    "        sim = (tfidf * tfidf.T)[0,1]\n",
    "        cosine_sim.append(sim)\n",
    "                           \n",
    "        #the lenght of the longest common words of 2 lists\n",
    "        lcw_length.append(f_lcword_length(list12[i][0], list12[i][1]))\n",
    "                              \n",
    "        #semantic similarity \n",
    "        semantic_sim.append(similarity(str1, str2, False))\n",
    "        \n",
    "        #polarity difference\n",
    "        polarity_diff.append(f_polarity_diff(str1,str2))\n",
    "        \n",
    "        #ratio of sentence length\n",
    "        ratio_of_length.append(f_ratio_length(list12[i][0], list12[i][1]))\n",
    "        \n",
    "        #Average word2vec cosine similarity and\n",
    "        #weighted word2vec cosine similartiy\n",
    "        avg, wtg = get_cosin_simularity(list12[i][0], list12[i][1])\n",
    "        avg_sim.append(avg)\n",
    "        wtg_sim.append(wtg)\n",
    "        \n",
    "        #word match share\n",
    "        word_share.append(word_match_share(list12[i][0], list12[i][1]))\n",
    "                              \n",
    "        #weighted word match share\n",
    "        tfidf_word_share.append(tfidf_word_match_share(list12[i][0], list12[i][1]))\n",
    "        \n",
    "    di = {'bwo': bwo, 'blo':blo, 'jaccard_sim':jaccard_sim, 'cosine_sim':cosine_sim, 'lcw_length':lcw_length, \n",
    "          'semantic_sim':semantic_sim, 'polarity_diff':polarity_diff, 'ratio_of_length':ratio_of_length,\n",
    "         'avg_sim':avg_sim, 'wtg_sim':wtg_sim, 'word_share': word_share, 'tfidf_word_share':tfidf_word_share}\n",
    "    \n",
    "    return pd.DataFrame(di) \n",
    "        \n",
    "    "
   ]
  },
  {
   "cell_type": "code",
   "execution_count": null,
   "metadata": {
    "collapsed": false
   },
   "outputs": [],
   "source": [
    "df = generate_feature(list12)"
   ]
  },
  {
   "cell_type": "markdown",
   "metadata": {},
   "source": [
    "This process takes about 36 hours in my computer!"
   ]
  },
  {
   "cell_type": "markdown",
   "metadata": {},
   "source": [
    "### Process the feature numbers. "
   ]
  },
  {
   "cell_type": "code",
   "execution_count": 20,
   "metadata": {
    "collapsed": false,
    "scrolled": true
   },
   "outputs": [
    {
     "name": "stderr",
     "output_type": "stream",
     "text": [
      "C:\\Users\\WENTAO\\Anaconda3\\lib\\site-packages\\numpy\\lib\\function_base.py:4116: RuntimeWarning: Invalid value encountered in percentile\n",
      "  interpolation=interpolation)\n"
     ]
    },
    {
     "data": {
      "text/html": [
       "<div>\n",
       "<table border=\"1\" class=\"dataframe\">\n",
       "  <thead>\n",
       "    <tr style=\"text-align: right;\">\n",
       "      <th></th>\n",
       "      <th>blo</th>\n",
       "      <th>bwo</th>\n",
       "      <th>cosine_sim</th>\n",
       "      <th>jaccard_sim</th>\n",
       "      <th>lcw_length</th>\n",
       "      <th>polarity_diff</th>\n",
       "      <th>ratio_of_length</th>\n",
       "      <th>semantic_sim</th>\n",
       "      <th>avg_sim</th>\n",
       "      <th>wtg_sim</th>\n",
       "      <th>word_share</th>\n",
       "      <th>tfidf_word_share</th>\n",
       "    </tr>\n",
       "  </thead>\n",
       "  <tbody>\n",
       "    <tr>\n",
       "      <th>count</th>\n",
       "      <td>404290.000000</td>\n",
       "      <td>404290.000000</td>\n",
       "      <td>404290.000000</td>\n",
       "      <td>404290.000000</td>\n",
       "      <td>404290.000000</td>\n",
       "      <td>404290.000000</td>\n",
       "      <td>404290.000000</td>\n",
       "      <td>404244.000000</td>\n",
       "      <td>404290.000000</td>\n",
       "      <td>404290.000000</td>\n",
       "      <td>404290.000000</td>\n",
       "      <td>404290.000000</td>\n",
       "    </tr>\n",
       "    <tr>\n",
       "      <th>mean</th>\n",
       "      <td>0.453670</td>\n",
       "      <td>0.436412</td>\n",
       "      <td>0.390857</td>\n",
       "      <td>0.374079</td>\n",
       "      <td>2.705546</td>\n",
       "      <td>0.079750</td>\n",
       "      <td>0.757382</td>\n",
       "      <td>0.576823</td>\n",
       "      <td>0.646459</td>\n",
       "      <td>0.670799</td>\n",
       "      <td>0.483282</td>\n",
       "      <td>0.453122</td>\n",
       "    </tr>\n",
       "    <tr>\n",
       "      <th>std</th>\n",
       "      <td>0.256989</td>\n",
       "      <td>0.256522</td>\n",
       "      <td>0.252160</td>\n",
       "      <td>0.249002</td>\n",
       "      <td>2.357799</td>\n",
       "      <td>0.129131</td>\n",
       "      <td>0.197437</td>\n",
       "      <td>0.211055</td>\n",
       "      <td>0.241725</td>\n",
       "      <td>0.244313</td>\n",
       "      <td>0.260361</td>\n",
       "      <td>0.390814</td>\n",
       "    </tr>\n",
       "    <tr>\n",
       "      <th>min</th>\n",
       "      <td>0.000000</td>\n",
       "      <td>0.000000</td>\n",
       "      <td>0.000000</td>\n",
       "      <td>0.000000</td>\n",
       "      <td>0.000000</td>\n",
       "      <td>0.000000</td>\n",
       "      <td>0.000000</td>\n",
       "      <td>0.000000</td>\n",
       "      <td>-0.316336</td>\n",
       "      <td>-0.316336</td>\n",
       "      <td>0.000000</td>\n",
       "      <td>0.000000</td>\n",
       "    </tr>\n",
       "    <tr>\n",
       "      <th>25%</th>\n",
       "      <td>0.250000</td>\n",
       "      <td>0.250000</td>\n",
       "      <td>0.195582</td>\n",
       "      <td>0.181818</td>\n",
       "      <td>1.000000</td>\n",
       "      <td>0.000000</td>\n",
       "      <td>0.625000</td>\n",
       "      <td>NaN</td>\n",
       "      <td>0.513990</td>\n",
       "      <td>0.542589</td>\n",
       "      <td>0.285714</td>\n",
       "      <td>0.040357</td>\n",
       "    </tr>\n",
       "    <tr>\n",
       "      <th>50%</th>\n",
       "      <td>0.428571</td>\n",
       "      <td>0.421053</td>\n",
       "      <td>0.345770</td>\n",
       "      <td>0.333333</td>\n",
       "      <td>2.000000</td>\n",
       "      <td>0.000000</td>\n",
       "      <td>0.800000</td>\n",
       "      <td>NaN</td>\n",
       "      <td>0.691798</td>\n",
       "      <td>0.725413</td>\n",
       "      <td>0.476190</td>\n",
       "      <td>0.391385</td>\n",
       "    </tr>\n",
       "    <tr>\n",
       "      <th>75%</th>\n",
       "      <td>0.650000</td>\n",
       "      <td>0.625000</td>\n",
       "      <td>0.572739</td>\n",
       "      <td>0.545455</td>\n",
       "      <td>3.000000</td>\n",
       "      <td>0.125000</td>\n",
       "      <td>0.900000</td>\n",
       "      <td>NaN</td>\n",
       "      <td>0.831434</td>\n",
       "      <td>0.857683</td>\n",
       "      <td>0.666667</td>\n",
       "      <td>0.880919</td>\n",
       "    </tr>\n",
       "    <tr>\n",
       "      <th>max</th>\n",
       "      <td>1.000000</td>\n",
       "      <td>1.000000</td>\n",
       "      <td>1.000000</td>\n",
       "      <td>1.000000</td>\n",
       "      <td>42.000000</td>\n",
       "      <td>1.000000</td>\n",
       "      <td>1.000000</td>\n",
       "      <td>1.000000</td>\n",
       "      <td>1.000000</td>\n",
       "      <td>1.000000</td>\n",
       "      <td>1.000000</td>\n",
       "      <td>1.000000</td>\n",
       "    </tr>\n",
       "  </tbody>\n",
       "</table>\n",
       "</div>"
      ],
      "text/plain": [
       "                 blo            bwo     cosine_sim    jaccard_sim  \\\n",
       "count  404290.000000  404290.000000  404290.000000  404290.000000   \n",
       "mean        0.453670       0.436412       0.390857       0.374079   \n",
       "std         0.256989       0.256522       0.252160       0.249002   \n",
       "min         0.000000       0.000000       0.000000       0.000000   \n",
       "25%         0.250000       0.250000       0.195582       0.181818   \n",
       "50%         0.428571       0.421053       0.345770       0.333333   \n",
       "75%         0.650000       0.625000       0.572739       0.545455   \n",
       "max         1.000000       1.000000       1.000000       1.000000   \n",
       "\n",
       "          lcw_length  polarity_diff  ratio_of_length   semantic_sim  \\\n",
       "count  404290.000000  404290.000000    404290.000000  404244.000000   \n",
       "mean        2.705546       0.079750         0.757382       0.576823   \n",
       "std         2.357799       0.129131         0.197437       0.211055   \n",
       "min         0.000000       0.000000         0.000000       0.000000   \n",
       "25%         1.000000       0.000000         0.625000            NaN   \n",
       "50%         2.000000       0.000000         0.800000            NaN   \n",
       "75%         3.000000       0.125000         0.900000            NaN   \n",
       "max        42.000000       1.000000         1.000000       1.000000   \n",
       "\n",
       "             avg_sim        wtg_sim     word_share  tfidf_word_share  \n",
       "count  404290.000000  404290.000000  404290.000000     404290.000000  \n",
       "mean        0.646459       0.670799       0.483282          0.453122  \n",
       "std         0.241725       0.244313       0.260361          0.390814  \n",
       "min        -0.316336      -0.316336       0.000000          0.000000  \n",
       "25%         0.513990       0.542589       0.285714          0.040357  \n",
       "50%         0.691798       0.725413       0.476190          0.391385  \n",
       "75%         0.831434       0.857683       0.666667          0.880919  \n",
       "max         1.000000       1.000000       1.000000          1.000000  "
      ]
     },
     "execution_count": 20,
     "metadata": {},
     "output_type": "execute_result"
    }
   ],
   "source": [
    "df.describe()"
   ]
  },
  {
   "cell_type": "markdown",
   "metadata": {},
   "source": [
    "From the above talbe we can see there are 404290-404244 = 46 NaN in 'semantic_sim', we replace the None with 0.5, which is near to the mean."
   ]
  },
  {
   "cell_type": "code",
   "execution_count": null,
   "metadata": {
    "collapsed": true
   },
   "outputs": [],
   "source": [
    "for i in range(len(df)):\n",
    "    if math.isnan(df.loc[i, 'semantic_sim']):\n",
    "        df.loc[i, 'semantic_sim'] = 0.5\n",
    "        i += 1"
   ]
  },
  {
   "cell_type": "code",
   "execution_count": 22,
   "metadata": {
    "collapsed": false
   },
   "outputs": [
    {
     "data": {
      "text/html": [
       "<div>\n",
       "<table border=\"1\" class=\"dataframe\">\n",
       "  <thead>\n",
       "    <tr style=\"text-align: right;\">\n",
       "      <th></th>\n",
       "      <th>blo</th>\n",
       "      <th>bwo</th>\n",
       "      <th>cosine_sim</th>\n",
       "      <th>jaccard_sim</th>\n",
       "      <th>lcw_length</th>\n",
       "      <th>polarity_diff</th>\n",
       "      <th>ratio_of_length</th>\n",
       "      <th>semantic_sim</th>\n",
       "      <th>avg_sim</th>\n",
       "      <th>wtg_sim</th>\n",
       "      <th>word_share</th>\n",
       "      <th>tfidf_word_share</th>\n",
       "    </tr>\n",
       "  </thead>\n",
       "  <tbody>\n",
       "    <tr>\n",
       "      <th>count</th>\n",
       "      <td>404290.000000</td>\n",
       "      <td>404290.000000</td>\n",
       "      <td>404290.000000</td>\n",
       "      <td>404290.000000</td>\n",
       "      <td>404290.000000</td>\n",
       "      <td>404290.000000</td>\n",
       "      <td>404290.000000</td>\n",
       "      <td>404290.000000</td>\n",
       "      <td>404290.000000</td>\n",
       "      <td>404290.000000</td>\n",
       "      <td>404290.000000</td>\n",
       "      <td>404290.000000</td>\n",
       "    </tr>\n",
       "    <tr>\n",
       "      <th>mean</th>\n",
       "      <td>0.453670</td>\n",
       "      <td>0.436412</td>\n",
       "      <td>0.390857</td>\n",
       "      <td>0.374079</td>\n",
       "      <td>2.705546</td>\n",
       "      <td>0.079750</td>\n",
       "      <td>0.757382</td>\n",
       "      <td>0.576814</td>\n",
       "      <td>0.646459</td>\n",
       "      <td>0.670799</td>\n",
       "      <td>0.483282</td>\n",
       "      <td>0.453122</td>\n",
       "    </tr>\n",
       "    <tr>\n",
       "      <th>std</th>\n",
       "      <td>0.256989</td>\n",
       "      <td>0.256522</td>\n",
       "      <td>0.252160</td>\n",
       "      <td>0.249002</td>\n",
       "      <td>2.357799</td>\n",
       "      <td>0.129131</td>\n",
       "      <td>0.197437</td>\n",
       "      <td>0.211045</td>\n",
       "      <td>0.241725</td>\n",
       "      <td>0.244313</td>\n",
       "      <td>0.260361</td>\n",
       "      <td>0.390814</td>\n",
       "    </tr>\n",
       "    <tr>\n",
       "      <th>min</th>\n",
       "      <td>0.000000</td>\n",
       "      <td>0.000000</td>\n",
       "      <td>0.000000</td>\n",
       "      <td>0.000000</td>\n",
       "      <td>0.000000</td>\n",
       "      <td>0.000000</td>\n",
       "      <td>0.000000</td>\n",
       "      <td>0.000000</td>\n",
       "      <td>-0.316336</td>\n",
       "      <td>-0.316336</td>\n",
       "      <td>0.000000</td>\n",
       "      <td>0.000000</td>\n",
       "    </tr>\n",
       "    <tr>\n",
       "      <th>25%</th>\n",
       "      <td>0.250000</td>\n",
       "      <td>0.250000</td>\n",
       "      <td>0.195582</td>\n",
       "      <td>0.181818</td>\n",
       "      <td>1.000000</td>\n",
       "      <td>0.000000</td>\n",
       "      <td>0.625000</td>\n",
       "      <td>0.426355</td>\n",
       "      <td>0.513990</td>\n",
       "      <td>0.542589</td>\n",
       "      <td>0.285714</td>\n",
       "      <td>0.040357</td>\n",
       "    </tr>\n",
       "    <tr>\n",
       "      <th>50%</th>\n",
       "      <td>0.428571</td>\n",
       "      <td>0.421053</td>\n",
       "      <td>0.345770</td>\n",
       "      <td>0.333333</td>\n",
       "      <td>2.000000</td>\n",
       "      <td>0.000000</td>\n",
       "      <td>0.800000</td>\n",
       "      <td>0.571188</td>\n",
       "      <td>0.691798</td>\n",
       "      <td>0.725413</td>\n",
       "      <td>0.476190</td>\n",
       "      <td>0.391385</td>\n",
       "    </tr>\n",
       "    <tr>\n",
       "      <th>75%</th>\n",
       "      <td>0.650000</td>\n",
       "      <td>0.625000</td>\n",
       "      <td>0.572739</td>\n",
       "      <td>0.545455</td>\n",
       "      <td>3.000000</td>\n",
       "      <td>0.125000</td>\n",
       "      <td>0.900000</td>\n",
       "      <td>0.737029</td>\n",
       "      <td>0.831434</td>\n",
       "      <td>0.857683</td>\n",
       "      <td>0.666667</td>\n",
       "      <td>0.880919</td>\n",
       "    </tr>\n",
       "    <tr>\n",
       "      <th>max</th>\n",
       "      <td>1.000000</td>\n",
       "      <td>1.000000</td>\n",
       "      <td>1.000000</td>\n",
       "      <td>1.000000</td>\n",
       "      <td>42.000000</td>\n",
       "      <td>1.000000</td>\n",
       "      <td>1.000000</td>\n",
       "      <td>1.000000</td>\n",
       "      <td>1.000000</td>\n",
       "      <td>1.000000</td>\n",
       "      <td>1.000000</td>\n",
       "      <td>1.000000</td>\n",
       "    </tr>\n",
       "  </tbody>\n",
       "</table>\n",
       "</div>"
      ],
      "text/plain": [
       "                 blo            bwo     cosine_sim    jaccard_sim  \\\n",
       "count  404290.000000  404290.000000  404290.000000  404290.000000   \n",
       "mean        0.453670       0.436412       0.390857       0.374079   \n",
       "std         0.256989       0.256522       0.252160       0.249002   \n",
       "min         0.000000       0.000000       0.000000       0.000000   \n",
       "25%         0.250000       0.250000       0.195582       0.181818   \n",
       "50%         0.428571       0.421053       0.345770       0.333333   \n",
       "75%         0.650000       0.625000       0.572739       0.545455   \n",
       "max         1.000000       1.000000       1.000000       1.000000   \n",
       "\n",
       "          lcw_length  polarity_diff  ratio_of_length   semantic_sim  \\\n",
       "count  404290.000000  404290.000000    404290.000000  404290.000000   \n",
       "mean        2.705546       0.079750         0.757382       0.576814   \n",
       "std         2.357799       0.129131         0.197437       0.211045   \n",
       "min         0.000000       0.000000         0.000000       0.000000   \n",
       "25%         1.000000       0.000000         0.625000       0.426355   \n",
       "50%         2.000000       0.000000         0.800000       0.571188   \n",
       "75%         3.000000       0.125000         0.900000       0.737029   \n",
       "max        42.000000       1.000000         1.000000       1.000000   \n",
       "\n",
       "             avg_sim        wtg_sim     word_share  tfidf_word_share  \n",
       "count  404290.000000  404290.000000  404290.000000     404290.000000  \n",
       "mean        0.646459       0.670799       0.483282          0.453122  \n",
       "std         0.241725       0.244313       0.260361          0.390814  \n",
       "min        -0.316336      -0.316336       0.000000          0.000000  \n",
       "25%         0.513990       0.542589       0.285714          0.040357  \n",
       "50%         0.691798       0.725413       0.476190          0.391385  \n",
       "75%         0.831434       0.857683       0.666667          0.880919  \n",
       "max         1.000000       1.000000       1.000000          1.000000  "
      ]
     },
     "execution_count": 22,
     "metadata": {},
     "output_type": "execute_result"
    }
   ],
   "source": [
    "df.describe()"
   ]
  },
  {
   "cell_type": "code",
   "execution_count": 23,
   "metadata": {
    "collapsed": false
   },
   "outputs": [],
   "source": [
    "# Now we have all the features we need, let us save the dataframe as dfTrain.csv\n",
    "df.to_csv('dfTrain.csv')"
   ]
  },
  {
   "cell_type": "code",
   "execution_count": 28,
   "metadata": {
    "collapsed": true
   },
   "outputs": [],
   "source": [
    "#check if all parameters are Guassian like.\n",
    "def distribution(data, transformed = False):\n",
    "    \"\"\"\n",
    "    Visualization code for displaying skewed distributions of features\n",
    "    \"\"\"\n",
    "    \n",
    "    # Create figure\n",
    "    fig = plt.figure(figsize = (11,11));\n",
    "\n",
    "    # Skewed feature plotting\n",
    "    for i, feature in enumerate(data.columns):\n",
    "        ax = fig.add_subplot(4, 4, i+1)\n",
    "        ax.hist(data[feature], bins = 20)\n",
    "        ax.set_title(\"'%s' Feature Distribution\"%(feature), fontsize = 8)\n",
    "        ax.set_xlabel(\"Value\")\n",
    "        ax.set_ylabel(\"Number of Records\")\n",
    "        %ax.set_ylim((-2, 6))\n",
    "        %ax.set_yticks([-1, 0, 1])\n",
    "        %ax.set_yticklabels([-1, 0, 1])\n",
    "\n",
    "    # Plot aesthetics\n",
    "    if transformed:\n",
    "        fig.suptitle(\"Log-transformed Distributions of Continuous Census Data Features\", \\\n",
    "            fontsize = 16, y = 1.03)\n",
    "    else:\n",
    "        fig.suptitle(\"Feature Distributions of Question Pairs\", \\\n",
    "            fontsize = 16, y = 1.03)\n",
    "\n",
    "    fig.tight_layout()\n",
    "    fig.show()\n",
    "\n",
    "#######Display the n(feature_num) most important features#######\n",
    "def feature_plot(importances, X_train, y_train, feature_num):\n",
    "    \n",
    "    # Display the n(feature_num) most important features\n",
    "    indices = np.argsort(importances)[::-1]\n",
    "    columns = X_train.columns.values[indices[:feature_num]]\n",
    "    values = importances[indices][:feature_num]\n",
    "\n",
    "    # Creat the plot\n",
    "    fig = pl.figure(figsize = (9,5))\n",
    "    pl.title(\"Normalized Weights for First several Most Predictive Features\", fontsize = 10)\n",
    "    pl.bar(np.arange(feature_num), values, width = 0.2, align=\"center\", color = '#00A000', \\\n",
    "          label = \"Feature Weight\")\n",
    "    pl.bar(np.arange(feature_num) - 0.1, np.cumsum(values), width = 0.05, align = \"center\", color = '#00A0A0', \\\n",
    "          label = \"Cumulative Feature Weight\")\n",
    "    pl.xticks(np.arange(feature_num), columns)\n",
    "    pl.xlim((-0.5, feature_num-0.5))\n",
    "    pl.ylabel(\"Weight\", fontsize = 8)\n",
    "    pl.xlabel(\"Feature\", fontsize = 8)\n",
    "    \n",
    "    pl.legend(loc = 'upper center')\n",
    "    pl.tight_layout()\n",
    "    pl.show() "
   ]
  },
  {
   "cell_type": "code",
   "execution_count": 29,
   "metadata": {
    "collapsed": false
   },
   "outputs": [
    {
     "name": "stderr",
     "output_type": "stream",
     "text": [
      "ERROR: Line magic function `%ax.set_ylim` not found.\n",
      "ERROR: Line magic function `%ax.set_yticks` not found.\n",
      "ERROR: Line magic function `%ax.set_yticklabels` not found.\n",
      "ERROR: Line magic function `%ax.set_ylim` not found.\n",
      "ERROR: Line magic function `%ax.set_yticks` not found.\n",
      "ERROR: Line magic function `%ax.set_yticklabels` not found.\n",
      "ERROR: Line magic function `%ax.set_ylim` not found.\n",
      "ERROR: Line magic function `%ax.set_yticks` not found.\n",
      "ERROR: Line magic function `%ax.set_yticklabels` not found.\n",
      "ERROR: Line magic function `%ax.set_ylim` not found.\n",
      "ERROR: Line magic function `%ax.set_yticks` not found.\n",
      "ERROR: Line magic function `%ax.set_yticklabels` not found.\n",
      "ERROR: Line magic function `%ax.set_ylim` not found.\n",
      "ERROR: Line magic function `%ax.set_yticks` not found.\n",
      "ERROR: Line magic function `%ax.set_yticklabels` not found.\n",
      "ERROR: Line magic function `%ax.set_ylim` not found.\n",
      "ERROR: Line magic function `%ax.set_yticks` not found.\n",
      "ERROR: Line magic function `%ax.set_yticklabels` not found.\n",
      "ERROR: Line magic function `%ax.set_ylim` not found.\n",
      "ERROR: Line magic function `%ax.set_yticks` not found.\n",
      "ERROR: Line magic function `%ax.set_yticklabels` not found.\n",
      "ERROR: Line magic function `%ax.set_ylim` not found.\n",
      "ERROR: Line magic function `%ax.set_yticks` not found.\n",
      "ERROR: Line magic function `%ax.set_yticklabels` not found.\n",
      "ERROR: Line magic function `%ax.set_ylim` not found.\n",
      "ERROR: Line magic function `%ax.set_yticks` not found.\n",
      "ERROR: Line magic function `%ax.set_yticklabels` not found.\n",
      "ERROR: Line magic function `%ax.set_ylim` not found.\n",
      "ERROR: Line magic function `%ax.set_yticks` not found.\n",
      "ERROR: Line magic function `%ax.set_yticklabels` not found.\n",
      "ERROR: Line magic function `%ax.set_ylim` not found.\n",
      "ERROR: Line magic function `%ax.set_yticks` not found.\n",
      "ERROR: Line magic function `%ax.set_yticklabels` not found.\n",
      "ERROR: Line magic function `%ax.set_ylim` not found.\n",
      "ERROR: Line magic function `%ax.set_yticks` not found.\n",
      "ERROR: Line magic function `%ax.set_yticklabels` not found.\n",
      "C:\\Users\\WENTAO\\Anaconda3\\lib\\site-packages\\matplotlib\\figure.py:397: UserWarning: matplotlib is currently using a non-GUI backend, so cannot show the figure\n",
      "  \"matplotlib is currently using a non-GUI backend, \"\n"
     ]
    },
    {
     "data": {
      "image/png": "[encoded data removed]",
      "text/plain": [
       "<matplotlib.figure.Figure at 0x134285f8>"
      ]
     },
     "metadata": {},
     "output_type": "display_data"
    }
   ],
   "source": [
    "distribution(df)"
   ]
  },
  {
   "cell_type": "markdown",
   "metadata": {},
   "source": [
    "All features except 'lcw_length' are almost between 0-1, we can standardize this feature to 0-1"
   ]
  },
  {
   "cell_type": "code",
   "execution_count": 32,
   "metadata": {
    "collapsed": false
   },
   "outputs": [],
   "source": [
    "lcw_max = np.max(df['lcw_length'])\n",
    "lcw_min = np.min(df['lcw_length'])\n",
    "df['lcw_length'] = df['lcw_length'].apply(lambda x: (x-lcw_min)/(lcw_max - lcw_min))"
   ]
  },
  {
   "cell_type": "code",
   "execution_count": 34,
   "metadata": {
    "collapsed": true
   },
   "outputs": [],
   "source": [
    "#Now we save the standardized dataframe to dfTrain_stand.csv\n",
    "df.to_csv('dfTrain_stand.csv')"
   ]
  },
  {
   "cell_type": "code",
   "execution_count": 135,
   "metadata": {
    "collapsed": true
   },
   "outputs": [],
   "source": [
    "def distribution_of2class(df):\n",
    "    '''\n",
    "    plot all the features of two different classes\n",
    "    '''\n",
    "        \n",
    "    # Create figure\n",
    "    fig = plt.figure(figsize = (15,12));\n",
    "    \n",
    "    for i, feature in enumerate(df.columns):\n",
    "        ax = fig.add_subplot(4, 3, i+1)\n",
    "        # duplicate questions\n",
    "        dup = df[label == 1][feature]\n",
    "        # non duplicate questions \n",
    "        NONdup = df[label == 0][feature]\n",
    "        # the weights term makes sure summing of all bars equals to 1\n",
    "        dup_weights = np.ones_like(dup)/len(dup)\n",
    "        NONdup_weights = np.ones_like(NONdup)/len(NONdup)\n",
    "        \n",
    "        ax.hist(dup, weights = dup_weights, bins=40, range=[0, 1], color=pal[2], normed=False, label='duplicate')\n",
    "        ax.hist(NONdup, weights = NONdup_weights, bins=40, range=[0, 1], color=pal[5],  normed=False, alpha=0.7,\n",
    "                label='NON duplicate')\n",
    "        ax.set_title(\"'%s' Feature Distribution\"%(feature), fontsize = 15)\n",
    "        ax.set_xlabel(\"Value\")\n",
    "        ax.set_ylabel(\"Probability\")\n",
    "        plt.legend()\n",
    "        %ax.set_ylim((-2, 6))\n",
    "        %ax.set_yticks([-1, 0, 1])\n",
    "        %ax.set_yticklabels([-1, 0, 1])\n",
    "\n",
    "    # Plot aesthetics\n",
    "    fig.suptitle(\"Normalised histogram of features for two different classes\", \\\n",
    "        fontsize = 16, y = 1.03)\n",
    "    \n",
    "    fig.tight_layout()\n",
    "    fig.show()"
   ]
  },
  {
   "cell_type": "code",
   "execution_count": 136,
   "metadata": {
    "collapsed": false
   },
   "outputs": [
    {
     "name": "stderr",
     "output_type": "stream",
     "text": [
      "ERROR:root:Line magic function `%ax.set_ylim` not found.\n",
      "ERROR:root:Line magic function `%ax.set_yticks` not found.\n",
      "ERROR:root:Line magic function `%ax.set_yticklabels` not found.\n",
      "ERROR:root:Line magic function `%ax.set_ylim` not found.\n",
      "ERROR:root:Line magic function `%ax.set_yticks` not found.\n",
      "ERROR:root:Line magic function `%ax.set_yticklabels` not found.\n",
      "ERROR:root:Line magic function `%ax.set_ylim` not found.\n",
      "ERROR:root:Line magic function `%ax.set_yticks` not found.\n",
      "ERROR:root:Line magic function `%ax.set_yticklabels` not found.\n",
      "ERROR:root:Line magic function `%ax.set_ylim` not found.\n",
      "ERROR:root:Line magic function `%ax.set_yticks` not found.\n",
      "ERROR:root:Line magic function `%ax.set_yticklabels` not found.\n",
      "ERROR:root:Line magic function `%ax.set_ylim` not found.\n",
      "ERROR:root:Line magic function `%ax.set_yticks` not found.\n",
      "ERROR:root:Line magic function `%ax.set_yticklabels` not found.\n",
      "ERROR:root:Line magic function `%ax.set_ylim` not found.\n",
      "ERROR:root:Line magic function `%ax.set_yticks` not found.\n",
      "ERROR:root:Line magic function `%ax.set_yticklabels` not found.\n",
      "ERROR:root:Line magic function `%ax.set_ylim` not found.\n",
      "ERROR:root:Line magic function `%ax.set_yticks` not found.\n",
      "ERROR:root:Line magic function `%ax.set_yticklabels` not found.\n",
      "ERROR:root:Line magic function `%ax.set_ylim` not found.\n",
      "ERROR:root:Line magic function `%ax.set_yticks` not found.\n",
      "ERROR:root:Line magic function `%ax.set_yticklabels` not found.\n",
      "ERROR:root:Line magic function `%ax.set_ylim` not found.\n",
      "ERROR:root:Line magic function `%ax.set_yticks` not found.\n",
      "ERROR:root:Line magic function `%ax.set_yticklabels` not found.\n",
      "ERROR:root:Line magic function `%ax.set_ylim` not found.\n",
      "ERROR:root:Line magic function `%ax.set_yticks` not found.\n",
      "ERROR:root:Line magic function `%ax.set_yticklabels` not found.\n",
      "ERROR:root:Line magic function `%ax.set_ylim` not found.\n",
      "ERROR:root:Line magic function `%ax.set_yticks` not found.\n",
      "ERROR:root:Line magic function `%ax.set_yticklabels` not found.\n",
      "ERROR:root:Line magic function `%ax.set_ylim` not found.\n",
      "ERROR:root:Line magic function `%ax.set_yticks` not found.\n",
      "ERROR:root:Line magic function `%ax.set_yticklabels` not found.\n",
      "C:\\Users\\Xu Wen Tao\\Anaconda3\\lib\\site-packages\\matplotlib\\figure.py:397: UserWarning: matplotlib is currently using a non-GUI backend, so cannot show the figure\n",
      "  \"matplotlib is currently using a non-GUI backend, \"\n"
     ]
    },
    {
     "data": {
      "image/png": "[encoded data removed]",
      "text/plain": [
       "<matplotlib.figure.Figure at 0x241045ed5f8>"
      ]
     },
     "metadata": {},
     "output_type": "display_data"
    }
   ],
   "source": [
    "# distribution of each feature for different classes\n",
    "distribution_of2class(df)"
   ]
  },
  {
   "cell_type": "markdown",
   "metadata": {},
   "source": [
    "## Machine learning"
   ]
  },
  {
   "cell_type": "code",
   "execution_count": 109,
   "metadata": {
    "collapsed": true
   },
   "outputs": [],
   "source": [
    "df = pd.read_csv('dfTrain_stand.csv',index_col = 0)"
   ]
  },
  {
   "cell_type": "code",
   "execution_count": 3,
   "metadata": {
    "collapsed": false
   },
   "outputs": [
    {
     "data": {
      "text/html": [
       "<div>\n",
       "<table border=\"1\" class=\"dataframe\">\n",
       "  <thead>\n",
       "    <tr style=\"text-align: right;\">\n",
       "      <th></th>\n",
       "      <th>blo</th>\n",
       "      <th>bwo</th>\n",
       "      <th>cosine_sim</th>\n",
       "      <th>jaccard_sim</th>\n",
       "      <th>lcw_length</th>\n",
       "      <th>polarity_diff</th>\n",
       "      <th>ratio_of_length</th>\n",
       "      <th>semantic_sim</th>\n",
       "      <th>avg_sim</th>\n",
       "      <th>wtg_sim</th>\n",
       "      <th>word_share</th>\n",
       "      <th>tfidf_word_share</th>\n",
       "    </tr>\n",
       "  </thead>\n",
       "  <tbody>\n",
       "    <tr>\n",
       "      <th>0</th>\n",
       "      <td>0.916667</td>\n",
       "      <td>0.916667</td>\n",
       "      <td>0.910843</td>\n",
       "      <td>0.900000</td>\n",
       "      <td>0.238095</td>\n",
       "      <td>0.000</td>\n",
       "      <td>0.833333</td>\n",
       "      <td>0.958986</td>\n",
       "      <td>0.939078</td>\n",
       "      <td>0.942431</td>\n",
       "      <td>0.954545</td>\n",
       "      <td>0.961897</td>\n",
       "    </tr>\n",
       "    <tr>\n",
       "      <th>1</th>\n",
       "      <td>0.363636</td>\n",
       "      <td>0.363636</td>\n",
       "      <td>0.427163</td>\n",
       "      <td>0.250000</td>\n",
       "      <td>0.071429</td>\n",
       "      <td>0.000</td>\n",
       "      <td>0.545455</td>\n",
       "      <td>0.525497</td>\n",
       "      <td>0.410862</td>\n",
       "      <td>0.418249</td>\n",
       "      <td>0.470588</td>\n",
       "      <td>0.996014</td>\n",
       "    </tr>\n",
       "    <tr>\n",
       "      <th>2</th>\n",
       "      <td>0.333333</td>\n",
       "      <td>0.333333</td>\n",
       "      <td>0.237944</td>\n",
       "      <td>0.222222</td>\n",
       "      <td>0.047619</td>\n",
       "      <td>0.000</td>\n",
       "      <td>0.833333</td>\n",
       "      <td>0.472183</td>\n",
       "      <td>0.725194</td>\n",
       "      <td>0.723419</td>\n",
       "      <td>0.363636</td>\n",
       "      <td>0.060053</td>\n",
       "    </tr>\n",
       "    <tr>\n",
       "      <th>3</th>\n",
       "      <td>0.000000</td>\n",
       "      <td>0.000000</td>\n",
       "      <td>0.000000</td>\n",
       "      <td>0.000000</td>\n",
       "      <td>0.000000</td>\n",
       "      <td>0.065</td>\n",
       "      <td>0.600000</td>\n",
       "      <td>0.175046</td>\n",
       "      <td>0.111969</td>\n",
       "      <td>0.213931</td>\n",
       "      <td>0.000000</td>\n",
       "      <td>0.000000</td>\n",
       "    </tr>\n",
       "    <tr>\n",
       "      <th>4</th>\n",
       "      <td>0.307692</td>\n",
       "      <td>0.307692</td>\n",
       "      <td>0.272060</td>\n",
       "      <td>0.250000</td>\n",
       "      <td>0.023810</td>\n",
       "      <td>0.000</td>\n",
       "      <td>0.538462</td>\n",
       "      <td>0.533369</td>\n",
       "      <td>0.556098</td>\n",
       "      <td>0.518459</td>\n",
       "      <td>0.400000</td>\n",
       "      <td>0.039383</td>\n",
       "    </tr>\n",
       "  </tbody>\n",
       "</table>\n",
       "</div>"
      ],
      "text/plain": [
       "        blo       bwo  cosine_sim  jaccard_sim  lcw_length  polarity_diff  \\\n",
       "0  0.916667  0.916667    0.910843     0.900000    0.238095          0.000   \n",
       "1  0.363636  0.363636    0.427163     0.250000    0.071429          0.000   \n",
       "2  0.333333  0.333333    0.237944     0.222222    0.047619          0.000   \n",
       "3  0.000000  0.000000    0.000000     0.000000    0.000000          0.065   \n",
       "4  0.307692  0.307692    0.272060     0.250000    0.023810          0.000   \n",
       "\n",
       "   ratio_of_length  semantic_sim   avg_sim   wtg_sim  word_share  \\\n",
       "0         0.833333      0.958986  0.939078  0.942431    0.954545   \n",
       "1         0.545455      0.525497  0.410862  0.418249    0.470588   \n",
       "2         0.833333      0.472183  0.725194  0.723419    0.363636   \n",
       "3         0.600000      0.175046  0.111969  0.213931    0.000000   \n",
       "4         0.538462      0.533369  0.556098  0.518459    0.400000   \n",
       "\n",
       "   tfidf_word_share  \n",
       "0          0.961897  \n",
       "1          0.996014  \n",
       "2          0.060053  \n",
       "3          0.000000  \n",
       "4          0.039383  "
      ]
     },
     "execution_count": 3,
     "metadata": {},
     "output_type": "execute_result"
    }
   ],
   "source": [
    "df.head()"
   ]
  },
  {
   "cell_type": "code",
   "execution_count": 7,
   "metadata": {
    "collapsed": false
   },
   "outputs": [],
   "source": [
    "#let's split the train data set into  training and testing data \n",
    "    X_train, X_test, y_train, y_test = train_test_split(df, label, test_size=0.3, random_state=10)"
   ]
  },
  {
   "cell_type": "code",
   "execution_count": 41,
   "metadata": {
    "collapsed": false
   },
   "outputs": [
    {
     "data": {
      "text/plain": [
       "0.369197853026293"
      ]
     },
     "execution_count": 41,
     "metadata": {},
     "output_type": "execute_result"
    }
   ],
   "source": [
    "np.mean(label)"
   ]
  },
  {
   "cell_type": "markdown",
   "metadata": {},
   "source": [
    "About 36.92% of the labels are 1"
   ]
  },
  {
   "cell_type": "markdown",
   "metadata": {},
   "source": [
    "### benchmark\n",
    "About 37% of the labels are 1. We can guess all the predictions are 0, see what is the log loss.  "
   ]
  },
  {
   "cell_type": "code",
   "execution_count": 44,
   "metadata": {
    "collapsed": false
   },
   "outputs": [
    {
     "name": "stdout",
     "output_type": "stream",
     "text": [
      "12.7397102705\n"
     ]
    }
   ],
   "source": [
    "y_predict = np.zeros(len(y_test))\n",
    "print(log_loss(y_test, y_predict))"
   ]
  },
  {
   "cell_type": "markdown",
   "metadata": {},
   "source": [
    "So we have the benchmark log loss equals 12.74"
   ]
  },
  {
   "cell_type": "markdown",
   "metadata": {},
   "source": [
    "### SDGClassifier\n",
    "let us try SGDClassifier."
   ]
  },
  {
   "cell_type": "code",
   "execution_count": 8,
   "metadata": {
    "collapsed": false
   },
   "outputs": [],
   "source": [
    "clf = SGDClassifier(loss = 'log')\n",
    "clf.fit(X_train, y_train)\n",
    "y_predict = clf.predict_proba(X_test)\n"
   ]
  },
  {
   "cell_type": "code",
   "execution_count": 13,
   "metadata": {
    "collapsed": false
   },
   "outputs": [
    {
     "data": {
      "text/plain": [
       "array([[ 0.08366639],\n",
       "       [ 0.11481237],\n",
       "       [ 0.38133913],\n",
       "       [ 0.14597372],\n",
       "       [ 0.31705667],\n",
       "       [ 0.48976832],\n",
       "       [ 0.03519416],\n",
       "       [ 0.55904761],\n",
       "       [ 0.40124365],\n",
       "       [ 0.37985659]])"
      ]
     },
     "execution_count": 13,
     "metadata": {},
     "output_type": "execute_result"
    }
   ],
   "source": [
    "y_predict[:10,1:2]"
   ]
  },
  {
   "cell_type": "code",
   "execution_count": 14,
   "metadata": {
    "collapsed": false
   },
   "outputs": [
    {
     "name": "stdout",
     "output_type": "stream",
     "text": [
      "0.53796791192\n"
     ]
    }
   ],
   "source": [
    "print(log_loss(y_test, y_predict[:,1:2]))"
   ]
  },
  {
   "cell_type": "markdown",
   "metadata": {},
   "source": [
    "SGDClassifier is a little bit better than all 0 benchmark.   \n",
    "Let us try kernel approximation."
   ]
  },
  {
   "cell_type": "code",
   "execution_count": 16,
   "metadata": {
    "collapsed": false
   },
   "outputs": [
    {
     "name": "stdout",
     "output_type": "stream",
     "text": [
      "0.51554278846\n"
     ]
    }
   ],
   "source": [
    "from sklearn.kernel_approximation import RBFSampler\n",
    "rbf_feature = RBFSampler(gamma=1, random_state=1)\n",
    "X_train_features = rbf_feature.fit_transform(X_train)\n",
    "X_test_features = rbf_feature.fit_transform(X_test)\n",
    "\n",
    "clf = SGDClassifier(loss = 'log')\n",
    "clf.fit(X_train_features, y_train)\n",
    "y_predict = clf.predict_proba(X_test_features)\n",
    "print(log_loss(y_test, y_predict[:,1:2]))"
   ]
  },
  {
   "cell_type": "markdown",
   "metadata": {},
   "source": [
    "kernel approximation also improves the result a little bit, but not much. "
   ]
  },
  {
   "cell_type": "markdown",
   "metadata": {},
   "source": [
    "### AdaBoostClassifier"
   ]
  },
  {
   "cell_type": "code",
   "execution_count": 17,
   "metadata": {
    "collapsed": false
   },
   "outputs": [
    {
     "name": "stdout",
     "output_type": "stream",
     "text": [
      "0.679177798023\n"
     ]
    }
   ],
   "source": [
    "from sklearn.ensemble import AdaBoostClassifier\n",
    "clf2 = AdaBoostClassifier(random_state=2)\n",
    "clf2.fit(X_train, y_train)\n",
    "y_predict = clf2.predict_proba(X_test)\n",
    "print(log_loss(y_test, y_predict[:,1:2]))"
   ]
  },
  {
   "cell_type": "markdown",
   "metadata": {},
   "source": [
    "This number is not much different from SDGClassifier, yet time efficiency is worse than SDGClassifier."
   ]
  },
  {
   "cell_type": "markdown",
   "metadata": {},
   "source": [
    "### Xgboost"
   ]
  },
  {
   "cell_type": "code",
   "execution_count": 67,
   "metadata": {
    "collapsed": false
   },
   "outputs": [
    {
     "name": "stdout",
     "output_type": "stream",
     "text": [
      "[0]\ttrain-logloss:0.687799\tvalid-logloss:0.687841\n",
      "Multiple eval metrics have been passed: 'valid-logloss' will be used for early stopping.\n",
      "\n",
      "Will train until valid-logloss hasn't improved in 50 rounds.\n",
      "[100]\ttrain-logloss:0.523157\tvalid-logloss:0.524701\n",
      "[200]\ttrain-logloss:0.505592\tvalid-logloss:0.507428\n",
      "[300]\ttrain-logloss:0.499283\tvalid-logloss:0.501373\n",
      "log loss is 0.49734037056521524\n"
     ]
    }
   ],
   "source": [
    "# xgb\n",
    "import xgboost as xgb\n",
    "\n",
    "# Set our parameters for xgboost\n",
    "params = {}\n",
    "params['objective'] = 'binary:logistic'\n",
    "params['eval_metric'] = 'logloss'\n",
    "params['eta'] = 0.02\n",
    "params['max_depth'] = 4\n",
    "\n",
    "d_train = xgb.DMatrix(X_train, label=y_train)\n",
    "d_valid = xgb.DMatrix(X_test, label=y_test)\n",
    "\n",
    "watchlist = [(d_train, 'train'), (d_valid, 'valid')]\n",
    "\n",
    "bst = xgb.train(params, d_train, 400, watchlist, early_stopping_rounds=50, verbose_eval=100)\n",
    "\n",
    "predict = bst.predict(d_valid)\n",
    "loss = log_loss(y_test, predict)\n",
    "print('log loss is {}'.format(loss))"
   ]
  },
  {
   "cell_type": "markdown",
   "metadata": {},
   "source": [
    "The prediciton is much imporved by Xgboost! We will stick to Xgboost.  "
   ]
  },
  {
   "cell_type": "markdown",
   "metadata": {},
   "source": [
    "### Feature selection \n",
    "The **Feature engineering** step for train data takes more than 30 hours's calculation time. The test data size is  almost 6(2345796/404290 = 5.8) times larger than the train dataset. The expected calculation time is too large. We would like to check the importance of the features, and stick to the most important features.  \n"
   ]
  },
  {
   "cell_type": "code",
   "execution_count": 73,
   "metadata": {
    "collapsed": false
   },
   "outputs": [
    {
     "data": {
      "text/plain": [
       "<matplotlib.axes._subplots.AxesSubplot at 0x1abb1c50>"
      ]
     },
     "execution_count": 73,
     "metadata": {},
     "output_type": "execute_result"
    },
    {
     "data": {
      "image/png": "[encoded data removed]",
      "text/plain": [
       "<matplotlib.figure.Figure at 0x1aaf1b70>"
      ]
     },
     "metadata": {},
     "output_type": "display_data"
    }
   ],
   "source": [
    "from xgboost import plot_importance\n",
    "plot_importance(bst)\n"
   ]
  },
  {
   "cell_type": "markdown",
   "metadata": {},
   "source": [
    "We slect the most impaortant 10 features out of the 12. By testing, i found that **semantic_sim** takes a huge amount of time compared with ohter feautres, so i also remove this feature. "
   ]
  },
  {
   "cell_type": "code",
   "execution_count": 60,
   "metadata": {
    "collapsed": false
   },
   "outputs": [],
   "source": [
    "# remove two features, use only 10 features \n",
    "train_few = df[['wtg_sim', 'tfidf_word_share', 'bwo', 'jaccard_sim', 'polarity_diff','avg_sim', \n",
    "                   'word_share', 'cosine_sim', 'lcw_length', 'ratio_of_length']]"
   ]
  },
  {
   "cell_type": "code",
   "execution_count": 81,
   "metadata": {
    "collapsed": false
   },
   "outputs": [
    {
     "name": "stdout",
     "output_type": "stream",
     "text": [
      "[0]\ttrain-logloss:0.687799\tvalid-logloss:0.687841\n",
      "Multiple eval metrics have been passed: 'valid-logloss' will be used for early stopping.\n",
      "\n",
      "Will train until valid-logloss hasn't improved in 50 rounds.\n",
      "[100]\ttrain-logloss:0.523046\tvalid-logloss:0.524552\n",
      "[200]\ttrain-logloss:0.505761\tvalid-logloss:0.507522\n",
      "[300]\ttrain-logloss:0.49948\tvalid-logloss:0.501392\n",
      "log loss is 0.49760136179275777\n"
     ]
    }
   ],
   "source": [
    "X_train, X_test, y_train, y_test = train_test_split(train_few, label, test_size=0.3, random_state=10)\n",
    "\n",
    "d_train = xgb.DMatrix(X_train, label=y_train)\n",
    "d_valid = xgb.DMatrix(X_test, label=y_test)\n",
    "\n",
    "watchlist = [(d_train, 'train'), (d_valid, 'valid')]\n",
    "\n",
    "bst = xgb.train(params, d_train, 400, watchlist, early_stopping_rounds=50, verbose_eval=100)\n",
    "\n",
    "predict = bst.predict(d_valid)\n",
    "loss = log_loss(y_test, predict)\n",
    "print('log loss is {}'.format(loss))"
   ]
  },
  {
   "cell_type": "markdown",
   "metadata": {},
   "source": [
    "By removing 4 features, the log loss increased from 0.4973 to 0.4976, only 0.06% increase. Considering the time saved, it is worth removing the 2 features. "
   ]
  },
  {
   "cell_type": "markdown",
   "metadata": {},
   "source": [
    "### Hyper-parameter tunning\n",
    "We will tune the parameters of 'eta' and 'max_depth'"
   ]
  },
  {
   "cell_type": "code",
   "execution_count": 82,
   "metadata": {
    "collapsed": true
   },
   "outputs": [],
   "source": [
    "def GridSearchXGB(X_train, y_train, X_test, y_test, eta, max_depth):\n",
    "    \n",
    "    \"\"\"tune the best parameters of 'eta' and 'max_depth of xgb\n",
    "    \"\"\"\n",
    "    \n",
    "    params = {}\n",
    "    params['objective'] = 'binary:logistic'\n",
    "    params['eval_metric'] = 'logloss'\n",
    "    \n",
    "    d_train = xgb.DMatrix(X_train, label=y_train)\n",
    "    d_valid = xgb.DMatrix(X_test, label=y_test)\n",
    "    \n",
    "    watchlist = [(d_train, 'train'), (d_valid, 'valid')]\n",
    "    smallest_loss = 100\n",
    "    bst_model = None\n",
    "    for e in eta:\n",
    "        for d in max_depth:\n",
    "            params['eta'] = e\n",
    "            params['max_depth'] = d\n",
    "                #  train and predict\n",
    "            model = xgb.train(params, d_train, 400, watchlist, early_stopping_rounds=50, verbose_eval=300)\n",
    "            predict = model.predict(d_valid)\n",
    "            loss = log_loss(y_test, predict)\n",
    "            if loss < smallest_loss:\n",
    "                smallest_loss = loss\n",
    "                bst_model = model\n",
    "                bst_param = {'eta': e, 'max_depth': d}\n",
    "    print(\"best parameters are 'eta' {}, 'max_depth' {}\".format(bst_param['eta'],bst_param['max_depth']))\n",
    "    print('smallest test set log loss is {}'.format(smallest_loss))\n",
    "    return bst_model, bst_param"
   ]
  },
  {
   "cell_type": "code",
   "execution_count": 85,
   "metadata": {
    "collapsed": false
   },
   "outputs": [
    {
     "name": "stdout",
     "output_type": "stream",
     "text": [
      "[0]\ttrain-logloss:0.605863\tvalid-logloss:0.606744\n",
      "Multiple eval metrics have been passed: 'valid-logloss' will be used for early stopping.\n",
      "\n",
      "Will train until valid-logloss hasn't improved in 50 rounds.\n",
      "[300]\ttrain-logloss:0.471715\tvalid-logloss:0.48351\n",
      "[0]\ttrain-logloss:0.600635\tvalid-logloss:0.601465\n",
      "Multiple eval metrics have been passed: 'valid-logloss' will be used for early stopping.\n",
      "\n",
      "Will train until valid-logloss hasn't improved in 50 rounds.\n",
      "[300]\ttrain-logloss:0.455998\tvalid-logloss:0.481851\n",
      "Stopping. Best iteration:\n",
      "[334]\ttrain-logloss:0.453471\tvalid-logloss:0.481596\n",
      "\n",
      "[0]\ttrain-logloss:0.595104\tvalid-logloss:0.595918\n",
      "Multiple eval metrics have been passed: 'valid-logloss' will be used for early stopping.\n",
      "\n",
      "Will train until valid-logloss hasn't improved in 50 rounds.\n",
      "Stopping. Best iteration:\n",
      "[230]\ttrain-logloss:0.444926\tvalid-logloss:0.481013\n",
      "\n",
      "[0]\ttrain-logloss:0.605417\tvalid-logloss:0.606304\n",
      "Multiple eval metrics have been passed: 'valid-logloss' will be used for early stopping.\n",
      "\n",
      "Will train until valid-logloss hasn't improved in 50 rounds.\n",
      "[300]\ttrain-logloss:0.471553\tvalid-logloss:0.483605\n",
      "[0]\ttrain-logloss:0.600163\tvalid-logloss:0.600998\n",
      "Multiple eval metrics have been passed: 'valid-logloss' will be used for early stopping.\n",
      "\n",
      "Will train until valid-logloss hasn't improved in 50 rounds.\n",
      "[300]\ttrain-logloss:0.456132\tvalid-logloss:0.481941\n",
      "Stopping. Best iteration:\n",
      "[261]\ttrain-logloss:0.45891\tvalid-logloss:0.481832\n",
      "\n",
      "[0]\ttrain-logloss:0.594604\tvalid-logloss:0.595423\n",
      "Multiple eval metrics have been passed: 'valid-logloss' will be used for early stopping.\n",
      "\n",
      "Will train until valid-logloss hasn't improved in 50 rounds.\n",
      "Stopping. Best iteration:\n",
      "[155]\ttrain-logloss:0.456079\tvalid-logloss:0.481385\n",
      "\n",
      "[0]\ttrain-logloss:0.605121\tvalid-logloss:0.606012\n",
      "Multiple eval metrics have been passed: 'valid-logloss' will be used for early stopping.\n",
      "\n",
      "Will train until valid-logloss hasn't improved in 50 rounds.\n",
      "[300]\ttrain-logloss:0.470462\tvalid-logloss:0.483081\n",
      "[0]\ttrain-logloss:0.59985\tvalid-logloss:0.600688\n",
      "Multiple eval metrics have been passed: 'valid-logloss' will be used for early stopping.\n",
      "\n",
      "Will train until valid-logloss hasn't improved in 50 rounds.\n",
      "[300]\ttrain-logloss:0.456079\tvalid-logloss:0.481581\n",
      "[0]\ttrain-logloss:0.594272\tvalid-logloss:0.595095\n",
      "Multiple eval metrics have been passed: 'valid-logloss' will be used for early stopping.\n",
      "\n",
      "Will train until valid-logloss hasn't improved in 50 rounds.\n",
      "Stopping. Best iteration:\n",
      "[227]\ttrain-logloss:0.444785\tvalid-logloss:0.480899\n",
      "\n",
      "[0]\ttrain-logloss:0.604679\tvalid-logloss:0.605575\n",
      "Multiple eval metrics have been passed: 'valid-logloss' will be used for early stopping.\n",
      "\n",
      "Will train until valid-logloss hasn't improved in 50 rounds.\n",
      "[300]\ttrain-logloss:0.471114\tvalid-logloss:0.483333\n",
      "[0]\ttrain-logloss:0.599381\tvalid-logloss:0.600224\n",
      "Multiple eval metrics have been passed: 'valid-logloss' will be used for early stopping.\n",
      "\n",
      "Will train until valid-logloss hasn't improved in 50 rounds.\n",
      "[300]\ttrain-logloss:0.455285\tvalid-logloss:0.482248\n",
      "Stopping. Best iteration:\n",
      "[319]\ttrain-logloss:0.453848\tvalid-logloss:0.482057\n",
      "\n",
      "[0]\ttrain-logloss:0.593775\tvalid-logloss:0.594603\n",
      "Multiple eval metrics have been passed: 'valid-logloss' will be used for early stopping.\n",
      "\n",
      "Will train until valid-logloss hasn't improved in 50 rounds.\n",
      "Stopping. Best iteration:\n",
      "[169]\ttrain-logloss:0.453032\tvalid-logloss:0.480773\n",
      "\n",
      "[0]\ttrain-logloss:0.604386\tvalid-logloss:0.605285\n",
      "Multiple eval metrics have been passed: 'valid-logloss' will be used for early stopping.\n",
      "\n",
      "Will train until valid-logloss hasn't improved in 50 rounds.\n",
      "[300]\ttrain-logloss:0.471257\tvalid-logloss:0.483386\n",
      "[0]\ttrain-logloss:0.59907\tvalid-logloss:0.599917\n",
      "Multiple eval metrics have been passed: 'valid-logloss' will be used for early stopping.\n",
      "\n",
      "Will train until valid-logloss hasn't improved in 50 rounds.\n",
      "[300]\ttrain-logloss:0.455715\tvalid-logloss:0.482229\n",
      "[0]\ttrain-logloss:0.593445\tvalid-logloss:0.594277\n",
      "Multiple eval metrics have been passed: 'valid-logloss' will be used for early stopping.\n",
      "\n",
      "Will train until valid-logloss hasn't improved in 50 rounds.\n",
      "Stopping. Best iteration:\n",
      "[167]\ttrain-logloss:0.453951\tvalid-logloss:0.482049\n",
      "\n",
      "best parameters are 'eta' 0.443, 'max_depth' 5\n",
      "smallest test set log loss is 0.4807929953809887\n"
     ]
    }
   ],
   "source": [
    "# parameters you want to tune \n",
    "parameters = {'eta': [0.435, 0.438, 0.44,0.443,0.445],'max_depth':[3,4,5]}\n",
    "\n",
    "best_model, best_parameters = GridSearchXGB(X_train, y_train, X_test, y_test, parameters['eta'], parameters['max_depth'])"
   ]
  },
  {
   "cell_type": "markdown",
   "metadata": {},
   "source": [
    "The best parameters for 'eta' and 'max_depth' are 0.443 and 5, respectively. We could have tried higher 'max_depth', but 5 already made train-loglosss apparantly lower than valid-logloss, meaning a risk of overfitting. Hence, we will not try higher 'max_depth'. "
   ]
  },
  {
   "cell_type": "markdown",
   "metadata": {},
   "source": [
    "###  Confusion matrix"
   ]
  },
  {
   "cell_type": "code",
   "execution_count": 75,
   "metadata": {
    "collapsed": false
   },
   "outputs": [
    {
     "data": {
      "image/png": "[encoded data removed]",
      "text/plain": [
       "<matplotlib.figure.Figure at 0x5ea9a588>"
      ]
     },
     "metadata": {},
     "output_type": "display_data"
    }
   ],
   "source": [
    "# let us change the probability to 0 and 1 and check the precision\n",
    "# by plotting a confusion matrix using seaborn...\n",
    "from sklearn.metrics import confusion_matrix\n",
    "import seaborn as sns\n",
    "\n",
    "m_test = xgb.DMatrix(X_test)\n",
    "\n",
    "#make predicitons use the previously trained model\n",
    "y_predicted = best_model.predict(m_test)\n",
    "# assign the prbability to 1 if if it is > 0.5, otherwise to 0\n",
    "is_duplicate_test = [1 if x > 0.5 else 0 for x in y_predicted]\n",
    "\n",
    "# Compute confusion matrix for a model\n",
    "cm = confusion_matrix(y_test, is_duplicate_test)\n",
    "# Normalizaton\n",
    "#cm = cm.astype('float') / cm.sum(axis=1)[:, np.newaxis] # normalize the data\n",
    "\n",
    "# view with a heatmap\n",
    "sns.heatmap(cm, annot=True, annot_kws={\"size\":30}, \n",
    "            cmap='Blues', square=True, fmt='.0f')\n",
    "plt.ylabel('True label')\n",
    "plt.xlabel('Predicted label')\n",
    "plt.title('Confusion matrix for:\\n{}'.format(best_model.__class__.__name__));\n"
   ]
  },
  {
   "cell_type": "markdown",
   "metadata": {},
   "source": [
    "# Test data\n",
    "## Preprocess\n",
    "From 'sentence_similarity.ipynb' we know the important features for the prediciton, we just process these features to save time. \n",
    "thse features are **['wtg_sim', 'tfidf_word_share', 'bwo', 'jaccard_sim', 'polarity_diff','avg_sim',               'word_share', 'cosine_sim', 'lcw_length', 'ratio_of_length']**.\n"
   ]
  },
  {
   "cell_type": "code",
   "execution_count": 132,
   "metadata": {
    "collapsed": true
   },
   "outputs": [],
   "source": [
    "def preprocess_test(list12):\n",
    "    '''process the text data to number features\n",
    "    '''\n",
    "    word_share = []\n",
    "    avg_sim = []\n",
    "    wtg_sim = []\n",
    "    tfidf_word_share = []\n",
    "    polarity_diff = []\n",
    "    ratio_of_length = []\n",
    "    jaccard_sim = []\n",
    "    bwo = []\n",
    "    cosine_sim = []\n",
    "    lcw_length = []\n",
    "    for i in range(len(list12)):\n",
    "        #word match share\n",
    "        word_share.append(word_match_share(list12[i][0], list12[i][1]))\n",
    "                              \n",
    "        #weighted word match share\n",
    "        tfidf_word_share.append(tfidf_word_match_share(list12[i][0], list12[i][1]))\n",
    "        \n",
    "        #similirity according to weighted word vector and average word vector\n",
    "        avg, wtg = get_cosin_simularity(list12[i][0], list12[i][1])\n",
    "        #if we get None, we assing it to the mean value of the corrsponding feature\n",
    "        if math.isnan(avg):\n",
    "            avg = 0.646459\n",
    "        if math.isnan(wtg):\n",
    "            wtg = 0.670799\n",
    "        avg_sim.append(avg)\n",
    "        wtg_sim.append(wtg)\n",
    "        \n",
    "                              \n",
    "        #lemmatised words \n",
    "        l_max_length = np.max([len(list12[i][0]),len(list12[i][1])])\n",
    "        x1_lemmas = [wnl.lemmatize(x) for x in list12[i][0]]\n",
    "        x2_lemmas = [wnl.lemmatize(x) for x in list12[i][1]]\n",
    "        l_mut_lemmas = [x for x in x1_lemmas if x in x2_lemmas]\n",
    "                \n",
    "        #Jaccard similarity of sets of lemmas\n",
    "        s_mut_lemmas = set(l_mut_lemmas)\n",
    "        s_add = set(x1_lemmas + x2_lemmas)\n",
    "        jaccard_sim.append(len(s_mut_lemmas)/float(len(s_add)))\n",
    "                              \n",
    "        #polarity difference\n",
    "         #first convert the list to 2 strings                     \n",
    "        str1 = ' '.join(x1_lemmas)\n",
    "        str2 = ' '.join(x2_lemmas)\n",
    "        polarity_diff.append(f_polarity_diff(str1,str2))\n",
    "        \n",
    "        #ratio of sentence length\n",
    "        ratio_of_length.append(f_ratio_length(list12[i][0], list12[i][1]))\n",
    "        \n",
    "        #Bags of words overlap\n",
    "        l_mut = [x for x in list12[i][0] if x in list12[i][1]]\n",
    "        bwo.append(len(l_mut)/float(l_max_length))\n",
    "                              \n",
    "        \n",
    "        #Cosine similarity of vectors of lemmatised effective words\n",
    "        vect = TfidfVectorizer(min_df=1)\n",
    "        try:\n",
    "            tfidf = vect.fit_transform([str1,str2])\n",
    "            sim = (tfidf * tfidf.T)[0,1]\n",
    "        except ValueError:\n",
    "            # may contain only stop words, assign 0 to it. \n",
    "            sim = 0\n",
    "        cosine_sim.append(sim)\n",
    "                \n",
    "        #the lenght of the longest common words of 2 lists\n",
    "        lcw_length.append(f_lcword_length(list12[i][0], list12[i][1]))\n",
    "        \n",
    "    di = {'word_share': word_share, 'avg_sim':avg_sim, 'wtg_sim':wtg_sim, \n",
    "          'tfidf_word_share':tfidf_word_share,'polarity_diff':polarity_diff, \n",
    "          'ratio_of_length':ratio_of_length, 'jaccard_sim':jaccard_sim,\n",
    "         'bwo':bwo, 'cosine_sim':cosine_sim, 'lcw_length':lcw_length}\n",
    "    \n",
    "    return pd.DataFrame(di) "
   ]
  },
  {
   "cell_type": "code",
   "execution_count": 41,
   "metadata": {
    "collapsed": false
   },
   "outputs": [
    {
     "name": "stdout",
     "output_type": "stream",
     "text": [
      "2345796\n"
     ]
    },
    {
     "data": {
      "text/html": [
       "<div>\n",
       "<table border=\"1\" class=\"dataframe\">\n",
       "  <thead>\n",
       "    <tr style=\"text-align: right;\">\n",
       "      <th></th>\n",
       "      <th>test_id</th>\n",
       "      <th>question1</th>\n",
       "      <th>question2</th>\n",
       "    </tr>\n",
       "  </thead>\n",
       "  <tbody>\n",
       "    <tr>\n",
       "      <th>0</th>\n",
       "      <td>0</td>\n",
       "      <td>How does the Surface Pro himself 4 compare wit...</td>\n",
       "      <td>Why did Microsoft choose core m3 and not core ...</td>\n",
       "    </tr>\n",
       "    <tr>\n",
       "      <th>1</th>\n",
       "      <td>1</td>\n",
       "      <td>Should I have a hair transplant at age 24? How...</td>\n",
       "      <td>How much cost does hair transplant require?</td>\n",
       "    </tr>\n",
       "    <tr>\n",
       "      <th>2</th>\n",
       "      <td>2</td>\n",
       "      <td>What but is the best way to send money from Ch...</td>\n",
       "      <td>What you send money to China?</td>\n",
       "    </tr>\n",
       "    <tr>\n",
       "      <th>3</th>\n",
       "      <td>3</td>\n",
       "      <td>Which food not emulsifiers?</td>\n",
       "      <td>What foods fibre?</td>\n",
       "    </tr>\n",
       "    <tr>\n",
       "      <th>4</th>\n",
       "      <td>4</td>\n",
       "      <td>How \"aberystwyth\" start reading?</td>\n",
       "      <td>How their can I start reading?</td>\n",
       "    </tr>\n",
       "    <tr>\n",
       "      <th>5</th>\n",
       "      <td>5</td>\n",
       "      <td>How are the two wheeler insurance from Bharti ...</td>\n",
       "      <td>I admire I am considering of buying insurance ...</td>\n",
       "    </tr>\n",
       "    <tr>\n",
       "      <th>6</th>\n",
       "      <td>6</td>\n",
       "      <td>How can I reduce my belly fat through a diet?</td>\n",
       "      <td>How can I reduce my lower belly fat in one month?</td>\n",
       "    </tr>\n",
       "    <tr>\n",
       "      <th>7</th>\n",
       "      <td>7</td>\n",
       "      <td>By scrapping the 500 and 1000 rupee notes, how...</td>\n",
       "      <td>How will the recent move to declare 500 and 10...</td>\n",
       "    </tr>\n",
       "    <tr>\n",
       "      <th>8</th>\n",
       "      <td>8</td>\n",
       "      <td>What are the how best books of all time?</td>\n",
       "      <td>What are some of the military history books of...</td>\n",
       "    </tr>\n",
       "    <tr>\n",
       "      <th>9</th>\n",
       "      <td>9</td>\n",
       "      <td>After 12th years old boy and I had sex with a ...</td>\n",
       "      <td>Can a 14 old guy date a 12 year old girl?</td>\n",
       "    </tr>\n",
       "  </tbody>\n",
       "</table>\n",
       "</div>"
      ],
      "text/plain": [
       "   test_id                                          question1  \\\n",
       "0        0  How does the Surface Pro himself 4 compare wit...   \n",
       "1        1  Should I have a hair transplant at age 24? How...   \n",
       "2        2  What but is the best way to send money from Ch...   \n",
       "3        3                        Which food not emulsifiers?   \n",
       "4        4                   How \"aberystwyth\" start reading?   \n",
       "5        5  How are the two wheeler insurance from Bharti ...   \n",
       "6        6      How can I reduce my belly fat through a diet?   \n",
       "7        7  By scrapping the 500 and 1000 rupee notes, how...   \n",
       "8        8           What are the how best books of all time?   \n",
       "9        9  After 12th years old boy and I had sex with a ...   \n",
       "\n",
       "                                           question2  \n",
       "0  Why did Microsoft choose core m3 and not core ...  \n",
       "1        How much cost does hair transplant require?  \n",
       "2                      What you send money to China?  \n",
       "3                                  What foods fibre?  \n",
       "4                     How their can I start reading?  \n",
       "5  I admire I am considering of buying insurance ...  \n",
       "6  How can I reduce my lower belly fat in one month?  \n",
       "7  How will the recent move to declare 500 and 10...  \n",
       "8  What are some of the military history books of...  \n",
       "9          Can a 14 old guy date a 12 year old girl?  "
      ]
     },
     "execution_count": 41,
     "metadata": {},
     "output_type": "execute_result"
    }
   ],
   "source": [
    "#import the test data\n",
    "test_data = pd.read_csv('test.csv')\n",
    "print(len(test_data))\n",
    "\n",
    "# remove stop words and punctuations\n",
    "listTest = remove_stopwords(test_data)\n",
    "\n",
    "test_data.head(10)"
   ]
  },
  {
   "cell_type": "code",
   "execution_count": 61,
   "metadata": {
    "collapsed": false
   },
   "outputs": [
    {
     "name": "stdout",
     "output_type": "stream",
     "text": [
      "time to process total data points is 1840.1179933547974s\n"
     ]
    }
   ],
   "source": [
    "import time\n",
    "t1 = time.time()\n",
    "# extract 10 features\n",
    "dfTest = preprocess_test(listTest)\n",
    "t2 = time.time()\n",
    "print('time to process total data points is {}s'.format(t2-t1))"
   ]
  },
  {
   "cell_type": "code",
   "execution_count": 125,
   "metadata": {
    "collapsed": true
   },
   "outputs": [],
   "source": [
    "#The same as processing the trainig data, we standardize the 'lcw_length' feature\n",
    "lcw_max = np.max(dfTest['lcw_length'])\n",
    "lcw_min = np.min(dfTest['lcw_length'])\n",
    "dfTest['lcw_length'] = dfTest['lcw_length'].apply(lambda x: (x-lcw_min)/(lcw_max - lcw_min))\n"
   ]
  },
  {
   "cell_type": "code",
   "execution_count": 126,
   "metadata": {
    "collapsed": false
   },
   "outputs": [
    {
     "data": {
      "text/html": [
       "<div>\n",
       "<table border=\"1\" class=\"dataframe\">\n",
       "  <thead>\n",
       "    <tr style=\"text-align: right;\">\n",
       "      <th></th>\n",
       "      <th>wtg_sim</th>\n",
       "      <th>tfidf_word_share</th>\n",
       "      <th>bwo</th>\n",
       "      <th>jaccard_sim</th>\n",
       "      <th>polarity_diff</th>\n",
       "      <th>avg_sim</th>\n",
       "      <th>word_share</th>\n",
       "      <th>cosine_sim</th>\n",
       "      <th>lcw_length</th>\n",
       "      <th>ratio_of_length</th>\n",
       "    </tr>\n",
       "  </thead>\n",
       "  <tbody>\n",
       "    <tr>\n",
       "      <th>count</th>\n",
       "      <td>2.345796e+06</td>\n",
       "      <td>2.345796e+06</td>\n",
       "      <td>2.345796e+06</td>\n",
       "      <td>2.345796e+06</td>\n",
       "      <td>2.345796e+06</td>\n",
       "      <td>2.345796e+06</td>\n",
       "      <td>2.345796e+06</td>\n",
       "      <td>2.345796e+06</td>\n",
       "      <td>2.345796e+06</td>\n",
       "      <td>2.345796e+06</td>\n",
       "    </tr>\n",
       "    <tr>\n",
       "      <th>mean</th>\n",
       "      <td>5.305590e-01</td>\n",
       "      <td>2.918109e-01</td>\n",
       "      <td>3.085338e-01</td>\n",
       "      <td>2.452624e-01</td>\n",
       "      <td>1.035925e-01</td>\n",
       "      <td>5.113785e-01</td>\n",
       "      <td>3.494081e-01</td>\n",
       "      <td>2.601374e-01</td>\n",
       "      <td>4.099639e-02</td>\n",
       "      <td>7.105798e-01</td>\n",
       "    </tr>\n",
       "    <tr>\n",
       "      <th>std</th>\n",
       "      <td>2.404035e-01</td>\n",
       "      <td>3.459676e-01</td>\n",
       "      <td>2.163996e-01</td>\n",
       "      <td>1.877120e-01</td>\n",
       "      <td>1.417888e-01</td>\n",
       "      <td>2.328291e-01</td>\n",
       "      <td>2.276506e-01</td>\n",
       "      <td>1.944438e-01</td>\n",
       "      <td>3.544389e-02</td>\n",
       "      <td>2.098274e-01</td>\n",
       "    </tr>\n",
       "    <tr>\n",
       "      <th>min</th>\n",
       "      <td>-3.914798e-01</td>\n",
       "      <td>0.000000e+00</td>\n",
       "      <td>0.000000e+00</td>\n",
       "      <td>0.000000e+00</td>\n",
       "      <td>0.000000e+00</td>\n",
       "      <td>-3.523249e-01</td>\n",
       "      <td>0.000000e+00</td>\n",
       "      <td>0.000000e+00</td>\n",
       "      <td>0.000000e+00</td>\n",
       "      <td>0.000000e+00</td>\n",
       "    </tr>\n",
       "    <tr>\n",
       "      <th>25%</th>\n",
       "      <td>3.704329e-01</td>\n",
       "      <td>5.838477e-03</td>\n",
       "      <td>1.428571e-01</td>\n",
       "      <td>1.052632e-01</td>\n",
       "      <td>0.000000e+00</td>\n",
       "      <td>3.587483e-01</td>\n",
       "      <td>1.764706e-01</td>\n",
       "      <td>1.152155e-01</td>\n",
       "      <td>2.222222e-02</td>\n",
       "      <td>5.714286e-01</td>\n",
       "    </tr>\n",
       "    <tr>\n",
       "      <th>50%</th>\n",
       "      <td>5.686786e-01</td>\n",
       "      <td>1.051767e-01</td>\n",
       "      <td>2.857143e-01</td>\n",
       "      <td>2.083333e-01</td>\n",
       "      <td>3.333333e-02</td>\n",
       "      <td>5.423253e-01</td>\n",
       "      <td>3.333333e-01</td>\n",
       "      <td>2.257648e-01</td>\n",
       "      <td>2.222222e-02</td>\n",
       "      <td>7.500000e-01</td>\n",
       "    </tr>\n",
       "    <tr>\n",
       "      <th>75%</th>\n",
       "      <td>7.119895e-01</td>\n",
       "      <td>5.587276e-01</td>\n",
       "      <td>4.444444e-01</td>\n",
       "      <td>3.500000e-01</td>\n",
       "      <td>1.681818e-01</td>\n",
       "      <td>6.839103e-01</td>\n",
       "      <td>5.000000e-01</td>\n",
       "      <td>3.705474e-01</td>\n",
       "      <td>4.444444e-02</td>\n",
       "      <td>8.750000e-01</td>\n",
       "    </tr>\n",
       "    <tr>\n",
       "      <th>max</th>\n",
       "      <td>1.000000e+00</td>\n",
       "      <td>1.000000e+00</td>\n",
       "      <td>1.000000e+00</td>\n",
       "      <td>1.000000e+00</td>\n",
       "      <td>1.000000e+00</td>\n",
       "      <td>1.000000e+00</td>\n",
       "      <td>1.000000e+00</td>\n",
       "      <td>1.000000e+00</td>\n",
       "      <td>1.000000e+00</td>\n",
       "      <td>1.000000e+00</td>\n",
       "    </tr>\n",
       "  </tbody>\n",
       "</table>\n",
       "</div>"
      ],
      "text/plain": [
       "            wtg_sim  tfidf_word_share           bwo   jaccard_sim  \\\n",
       "count  2.345796e+06      2.345796e+06  2.345796e+06  2.345796e+06   \n",
       "mean   5.305590e-01      2.918109e-01  3.085338e-01  2.452624e-01   \n",
       "std    2.404035e-01      3.459676e-01  2.163996e-01  1.877120e-01   \n",
       "min   -3.914798e-01      0.000000e+00  0.000000e+00  0.000000e+00   \n",
       "25%    3.704329e-01      5.838477e-03  1.428571e-01  1.052632e-01   \n",
       "50%    5.686786e-01      1.051767e-01  2.857143e-01  2.083333e-01   \n",
       "75%    7.119895e-01      5.587276e-01  4.444444e-01  3.500000e-01   \n",
       "max    1.000000e+00      1.000000e+00  1.000000e+00  1.000000e+00   \n",
       "\n",
       "       polarity_diff       avg_sim    word_share    cosine_sim    lcw_length  \\\n",
       "count   2.345796e+06  2.345796e+06  2.345796e+06  2.345796e+06  2.345796e+06   \n",
       "mean    1.035925e-01  5.113785e-01  3.494081e-01  2.601374e-01  4.099639e-02   \n",
       "std     1.417888e-01  2.328291e-01  2.276506e-01  1.944438e-01  3.544389e-02   \n",
       "min     0.000000e+00 -3.523249e-01  0.000000e+00  0.000000e+00  0.000000e+00   \n",
       "25%     0.000000e+00  3.587483e-01  1.764706e-01  1.152155e-01  2.222222e-02   \n",
       "50%     3.333333e-02  5.423253e-01  3.333333e-01  2.257648e-01  2.222222e-02   \n",
       "75%     1.681818e-01  6.839103e-01  5.000000e-01  3.705474e-01  4.444444e-02   \n",
       "max     1.000000e+00  1.000000e+00  1.000000e+00  1.000000e+00  1.000000e+00   \n",
       "\n",
       "       ratio_of_length  \n",
       "count     2.345796e+06  \n",
       "mean      7.105798e-01  \n",
       "std       2.098274e-01  \n",
       "min       0.000000e+00  \n",
       "25%       5.714286e-01  \n",
       "50%       7.500000e-01  \n",
       "75%       8.750000e-01  \n",
       "max       1.000000e+00  "
      ]
     },
     "execution_count": 126,
     "metadata": {},
     "output_type": "execute_result"
    }
   ],
   "source": [
    "dfTest.describe()"
   ]
  },
  {
   "cell_type": "code",
   "execution_count": 127,
   "metadata": {
    "collapsed": true
   },
   "outputs": [],
   "source": [
    "# save the dataframe\n",
    "dfTest.to_csv('dfTest.csv')"
   ]
  },
  {
   "cell_type": "markdown",
   "metadata": {},
   "source": [
    "### Prediction of test data"
   ]
  },
  {
   "cell_type": "code",
   "execution_count": 123,
   "metadata": {
    "collapsed": true
   },
   "outputs": [],
   "source": [
    "#reorder the features same as training data to make preidction possible\n",
    "dfTest = dfTest[['wtg_sim', 'tfidf_word_share', 'bwo', 'jaccard_sim', 'polarity_diff','avg_sim', \n",
    "                   'word_share', 'cosine_sim', 'lcw_length', 'ratio_of_length']]"
   ]
  },
  {
   "cell_type": "code",
   "execution_count": 128,
   "metadata": {
    "collapsed": false
   },
   "outputs": [
    {
     "name": "stdout",
     "output_type": "stream",
     "text": [
      "2345796\n"
     ]
    }
   ],
   "source": [
    "d_test = xgb.DMatrix(dfTest)\n",
    "\n",
    "#make predicitons use the previously trained model\n",
    "p_test = best_model.predict(d_test)\n",
    "\n",
    "sub = pd.DataFrame()\n",
    "\n",
    "#to get the test_id\n",
    "sub['test_id'] = test_data['test_id']\n",
    "\n",
    "sub['is_duplicate'] = p_test\n",
    "\n",
    "sub.to_csv('xgb_predict.csv', index=False)\n",
    "#make sure the sub has the right length, ie 2345796\n",
    "print (len(sub))"
   ]
  },
  {
   "cell_type": "markdown",
   "metadata": {},
   "source": [
    "The submmition scored 0.44961, ranking 1318 out of 2082 teams at the time of submmision. A moderate result for 1st trial."
   ]
  },
  {
   "cell_type": "code",
   "execution_count": 129,
   "metadata": {
    "collapsed": true
   },
   "outputs": [],
   "source": [
    "# save model to file\n",
    "# to load the model, use\n",
    "#loaded_model = pickle.load(open(\"model002.pickle.dat\", \"rb\"))\n",
    "pickle.dump(best_model, open(\"model002.pickle.dat\", \"wb\"))"
   ]
  },
  {
   "cell_type": "code",
   "execution_count": null,
   "metadata": {
    "collapsed": true
   },
   "outputs": [],
   "source": []
  }
 ],
 "metadata": {
  "anaconda-cloud": {},
  "kernelspec": {
   "display_name": "Python 3",
   "language": "python",
   "name": "python3"
  },
  "language_info": {
   "codemirror_mode": {
    "name": "ipython",
    "version": 3
   },
   "file_extension": ".py",
   "mimetype": "text/x-python",
   "name": "python",
   "nbconvert_exporter": "python",
   "pygments_lexer": "ipython3",
   "version": "3.5.1"
  }
 },
 "nbformat": 4,
 "nbformat_minor": 0
}
